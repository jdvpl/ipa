{
 "cells": [
  {
   "cell_type": "code",
   "execution_count": 1,
   "id": "74095266",
   "metadata": {},
   "outputs": [],
   "source": [
    "import openpyxl"
   ]
  },
  {
   "cell_type": "code",
   "execution_count": 2,
   "id": "cdd29180",
   "metadata": {},
   "outputs": [
    {
     "data": {
      "text/plain": [
       "'Lectura de ficheros excel'"
      ]
     },
     "execution_count": 2,
     "metadata": {},
     "output_type": "execute_result"
    }
   ],
   "source": [
    "\"Lectura de ficheros excel\""
   ]
  },
  {
   "cell_type": "code",
   "execution_count": 3,
   "id": "a687a7d3",
   "metadata": {},
   "outputs": [],
   "source": [
    "libro=openpyxl.load_workbook(\"./files/1Distrito_poblacion.xlsx\")"
   ]
  },
  {
   "cell_type": "code",
   "execution_count": 4,
   "id": "d7d89693",
   "metadata": {},
   "outputs": [
    {
     "data": {
      "text/plain": [
       "['figuras', 'other sheet']"
      ]
     },
     "execution_count": 4,
     "metadata": {},
     "output_type": "execute_result"
    }
   ],
   "source": [
    "libro.sheetnames"
   ]
  },
  {
   "cell_type": "code",
   "execution_count": 5,
   "id": "f2fb0905",
   "metadata": {},
   "outputs": [],
   "source": [
    "sheet=libro[\"figuras\"]"
   ]
  },
  {
   "cell_type": "code",
   "execution_count": 6,
   "id": "550f3926",
   "metadata": {},
   "outputs": [],
   "source": [
    "sheet['A1'].value"
   ]
  },
  {
   "cell_type": "code",
   "execution_count": 7,
   "id": "e52b543f",
   "metadata": {},
   "outputs": [
    {
     "data": {
      "text/plain": [
       "'Huila'"
      ]
     },
     "execution_count": 7,
     "metadata": {},
     "output_type": "execute_result"
    }
   ],
   "source": [
    "sheet.cell(row=2,column=1).value"
   ]
  },
  {
   "cell_type": "code",
   "execution_count": 10,
   "id": "dc5989a9",
   "metadata": {},
   "outputs": [
    {
     "ename": "TypeError",
     "evalue": "unsupported operand type(s) for +: 'NoneType' and 'str'",
     "output_type": "error",
     "traceback": [
      "\u001b[0;31m---------------------------------------------------------------------------\u001b[0m",
      "\u001b[0;31mTypeError\u001b[0m                                 Traceback (most recent call last)",
      "Cell \u001b[0;32mIn[10], line 2\u001b[0m\n\u001b[1;32m      1\u001b[0m \u001b[38;5;28;01mfor\u001b[39;00m i \u001b[38;5;129;01min\u001b[39;00m \u001b[38;5;28mrange\u001b[39m(\u001b[38;5;241m1\u001b[39m,\u001b[38;5;241m6\u001b[39m):\n\u001b[0;32m----> 2\u001b[0m     sheet\u001b[38;5;241m.\u001b[39mcell(row\u001b[38;5;241m=\u001b[39mi,column\u001b[38;5;241m=\u001b[39m\u001b[38;5;241m1\u001b[39m)\u001b[38;5;241m.\u001b[39mvalue\u001b[38;5;241m+\u001b[39m\u001b[38;5;124m'\u001b[39m\u001b[38;5;124m:\u001b[39m\u001b[38;5;124m'\u001b[39m\u001b[38;5;241m+\u001b[39m\u001b[38;5;28mstr\u001b[39m(sheet\u001b[38;5;241m.\u001b[39mcell(row\u001b[38;5;241m=\u001b[39mi,column\u001b[38;5;241m=\u001b[39m\u001b[38;5;241m2\u001b[39m)\u001b[38;5;241m.\u001b[39mvalue)\n",
      "\u001b[0;31mTypeError\u001b[0m: unsupported operand type(s) for +: 'NoneType' and 'str'"
     ]
    }
   ],
   "source": [
    "for i in range(1,6):\n",
    "    print(sheet.cell(row=i,column=1).value+':'+sheet.cell(row=i,column=2).value)"
   ]
  },
  {
   "cell_type": "code",
   "execution_count": 9,
   "id": "b416e95b",
   "metadata": {},
   "outputs": [
    {
     "data": {
      "text/plain": [
       "'escritura de archivos'"
      ]
     },
     "execution_count": 9,
     "metadata": {},
     "output_type": "execute_result"
    }
   ],
   "source": [
    "\"escritura de archivos\""
   ]
  },
  {
   "cell_type": "code",
   "execution_count": 10,
   "id": "7066c900",
   "metadata": {},
   "outputs": [],
   "source": [
    "sheet[\"a2\"]=\"Huila\""
   ]
  },
  {
   "cell_type": "code",
   "execution_count": 11,
   "id": "b17d310e",
   "metadata": {},
   "outputs": [],
   "source": [
    "sheet[\"c2\"]=\"Top 5\""
   ]
  },
  {
   "cell_type": "code",
   "execution_count": 12,
   "id": "940a48a8",
   "metadata": {},
   "outputs": [],
   "source": [
    "sheet2=libro.create_sheet(title=\"other sheet\")"
   ]
  },
  {
   "cell_type": "code",
   "execution_count": 13,
   "id": "cb9d7987",
   "metadata": {},
   "outputs": [],
   "source": [
    "libro.save(\"./files/1Distrito_poblacion.xlsx\")"
   ]
  },
  {
   "cell_type": "code",
   "execution_count": null,
   "id": "6919ddf8",
   "metadata": {},
   "outputs": [],
   "source": []
  }
 ],
 "metadata": {
  "kernelspec": {
   "display_name": "Python 3 (ipykernel)",
   "language": "python",
   "name": "python3"
  },
  "language_info": {
   "codemirror_mode": {
    "name": "ipython",
    "version": 3
   },
   "file_extension": ".py",
   "mimetype": "text/x-python",
   "name": "python",
   "nbconvert_exporter": "python",
   "pygments_lexer": "ipython3",
   "version": "3.12.4"
  }
 },
 "nbformat": 4,
 "nbformat_minor": 5
}
