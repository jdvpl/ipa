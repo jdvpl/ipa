{
 "cells": [
  {
   "cell_type": "code",
   "execution_count": 569,
   "id": "75935941",
   "metadata": {},
   "outputs": [],
   "source": [
    "import pandas as pd\n",
    "import re\n",
    "import matplotlib.pyplot as plt\n"
   ]
  },
  {
   "cell_type": "code",
   "execution_count": 570,
   "id": "29d2a226",
   "metadata": {},
   "outputs": [],
   "source": [
    "def clean_numeric(text):\n",
    "    if isinstance(text, str):\n",
    "        return re.sub(r'[^0-9.]', '', text)\n",
    "    return text\n"
   ]
  },
  {
   "cell_type": "code",
   "execution_count": 571,
   "id": "79bc71c9",
   "metadata": {},
   "outputs": [],
   "source": [
    "def clean_text(text):\n",
    "    if isinstance(text, str):\n",
    "        # Mantener letras, números, espacios y tildes\n",
    "        # Eliminar saltos de línea\n",
    "        text = re.sub(r'\\n', '', text)\n",
    "        return re.sub(r'[^A-Za-z0-9\\sÁÉÍÓÚáéíóúñÑ]', '', text).strip()\n",
    "    return text\n"
   ]
  },
  {
   "cell_type": "code",
   "execution_count": 572,
   "id": "ac42321c",
   "metadata": {},
   "outputs": [],
   "source": [
    "def clean_date(text):\n",
    "    if isinstance(text, str):\n",
    "        # Eliminar caracteres que no sean números o guiones\n",
    "        text = re.sub(r'[^0-9-]', '', text) \n",
    "    return text\n"
   ]
  },
  {
   "cell_type": "code",
   "execution_count": 573,
   "id": "1248dd35",
   "metadata": {},
   "outputs": [],
   "source": [
    "def clean_email(text):\n",
    "    if isinstance(text, str):\n",
    "        # Reemplazar caracteres especiales en medio con '@'\n",
    "        text = re.sub(r'[^A-Za-z0-9@._-]', '@', text)\n",
    "        \n",
    "        # Eliminar caracteres especiales de los extremos\n",
    "        text = re.sub(r'^[^A-Za-z0-9]+|[^A-Za-z0-9]+$', '', text)\n",
    "        \n",
    "        # Asegurarse de que solo haya una '@'\n",
    "        parts = text.split('@')\n",
    "        if len(parts) > 2:\n",
    "            text = parts[0] + '@' + ''.join(parts[1:])\n",
    "        elif len(parts) == 2:\n",
    "            text = parts[0] + '@' + parts[1]\n",
    "\n",
    "        # Eliminar caracteres especiales después del '@' excepto para '.' y '-'\n",
    "        if '@' in text:\n",
    "            local, domain = text.split('@', 1)\n",
    "            domain = re.sub(r'[^A-Za-z0-9.-]', '', domain)\n",
    "            text = f'{local}@{domain}'\n",
    "\n",
    "        return text\n",
    "    return text"
   ]
  },
  {
   "cell_type": "code",
   "execution_count": 574,
   "id": "543a99e8",
   "metadata": {},
   "outputs": [],
   "source": [
    "def clean_phone(numero):\n",
    "    # Eliminar caracteres especiales excepto números\n",
    "    numero = re.sub(r'\\D', '', numero)\n",
    "    \n",
    "    # Quitar los '0' a la izquierda si los hay\n",
    "    numero = numero.lstrip('0')\n",
    "    \n",
    "    # Agregar '1' al principio si hay exactamente 10 números\n",
    "    if len(numero) == 10:\n",
    "        numero = '1' + numero\n",
    "        \n",
    "    # Agregar '1' al principio si no lo tiene\n",
    "    if not numero.startswith('1'):\n",
    "        numero = '1' + numero\n",
    "    \n",
    "    # Formatear el número y extraer la extensión si existe\n",
    "    if len(numero) > 11:  # Si hay más de 11 dígitos, hay una extensión\n",
    "        formateado = f'+{numero[0]} ({numero[1:4]}) {numero[4:7]}-{numero[7:11]}'\n",
    "        extension = numero[11:]\n",
    "    else:\n",
    "        formateado = f'+{numero[0]} ({numero[1:4]}) {numero[4:7]}-{numero[7:11]}'\n",
    "        extension = ''\n",
    "    \n",
    "    return formateado, extension"
   ]
  },
  {
   "cell_type": "code",
   "execution_count": 575,
   "id": "b9141879",
   "metadata": {},
   "outputs": [],
   "source": [
    "def clean_text_advanced(text):\n",
    "    if isinstance(text, str):\n",
    "        # Reemplazar caracteres especiales por espacio, excepto letras, números y espacios\n",
    "        text = re.sub(r'[^A-Za-z0-9ÁÉÍÓÚáéíóúñÑ\\s]', ' ', text)\n",
    "        \n",
    "        # Reemplazar múltiples espacios por un solo espacio\n",
    "        text = re.sub(r'\\s+', ' ', text).strip()\n",
    "        \n",
    "        return text.strip()  # Eliminar espacios en blanco al principio y al final\n",
    "    return text"
   ]
  },
  {
   "cell_type": "code",
   "execution_count": 576,
   "id": "62ce9772",
   "metadata": {},
   "outputs": [],
   "source": [
    "df=pd.read_csv(r'./files/datos_ventas.csv',delimiter=\",\",encoding=\"ISO-8859-1\")"
   ]
  },
  {
   "cell_type": "code",
   "execution_count": 577,
   "id": "d57c4f63",
   "metadata": {},
   "outputs": [],
   "source": [
    "df['ID_Venta']=df['ID_Venta'].apply(clean_numeric)\n",
    "df['Producto'] = df['Producto'].apply(clean_text)\n",
    "df['Ciudad'] = df['Ciudad'].apply(clean_text_advanced)\n",
    "df['Categoria'] = df['Categoria'].apply(clean_text)\n",
    "df['Precio_Unitario'] = df['Precio_Unitario'].apply(clean_numeric)\n",
    "df['Cantidad'] = df['Cantidad'].apply(clean_numeric)\n",
    "df['Fecha_Venta'] = df['Fecha_Venta'].apply(clean_date)\n",
    "df['Cliente'] = df['Cliente'].apply(clean_text_advanced)\n",
    "df['Email'] = df['Email'].apply(clean_email)\n",
    "df[['Telefono', 'Extension']] = df['Telefono'].apply(lambda x: pd.Series(clean_phone(x)))\n",
    "df['Direccion'] = df['Direccion'].apply(clean_text_advanced)\n",
    "df['Metodo_Pago'] = df['Metodo_Pago'].apply(clean_text)\n",
    "df['Estado'] = df['Estado'].apply(clean_text_advanced)\n",
    "df['Comentario'] = df['Comentario'].apply(clean_text_advanced)\n",
    "df['Descuento'] = df['Descuento'].apply(clean_numeric)"
   ]
  },
  {
   "cell_type": "code",
   "execution_count": 578,
   "id": "7eda6654",
   "metadata": {},
   "outputs": [],
   "source": [
    "columns = list(df.columns)\n",
    "telefono_idx = columns.index('Telefono')\n",
    "columns.insert(telefono_idx + 1, columns.pop(columns.index('Extension')))\n",
    "df = df[columns]"
   ]
  },
  {
   "cell_type": "code",
   "execution_count": 579,
   "id": "417f37c9",
   "metadata": {},
   "outputs": [],
   "source": [
    "output_path = './files/archivo_limpio.xlsx'"
   ]
  },
  {
   "cell_type": "code",
   "execution_count": null,
   "id": "5f7c4162",
   "metadata": {},
   "outputs": [],
   "source": [
    "df.to_excel(output_path, index=False)"
   ]
  },
  {
   "cell_type": "code",
   "execution_count": null,
   "id": "23afc9d0",
   "metadata": {},
   "outputs": [],
   "source": [
    "# Convertir la columna 'Fecha_Venta' a tipo datetime\n",
    "df['Fecha_Venta'] = pd.to_datetime(df['Fecha_Venta'])\n",
    "\n",
    "# Gráfico 1: Cantidad de productos vendidos por año\n",
    "# Agrupar por año y contar la cantidad de ventas\n",
    "ventas_por_anio = df.groupby(df['Fecha_Venta'].dt.year)['ID_Venta'].count()\n",
    "\n",
    "plt.figure(figsize=(8, 6))\n",
    "ventas_por_anio.plot(kind='bar', color='skyblue')\n",
    "plt.title('Cantidad de Productos Vendidos por Año', fontsize=16)\n",
    "plt.xlabel('Año', fontsize=14)\n",
    "plt.ylabel('Cantidad de Productos Vendidos', fontsize=14)\n",
    "plt.xticks(rotation=45, fontsize=12)\n",
    "plt.yticks(fontsize=12)\n",
    "plt.grid(axis='y', linestyle='--', alpha=0.7)\n",
    "plt.tight_layout()\n",
    "plt.show()\n",
    "\n",
    "# Gráfico 2: Clientes más frecuentes\n",
    "# Contar las ventas por cliente y ordenar de mayor a menor\n",
    "clientes_frecuentes = df['Cliente'].value_counts().nlargest(5)  # Obtener los 5 clientes más frecuentes\n",
    "\n",
    "plt.figure(figsize=(8, 6))\n",
    "clientes_frecuentes.plot(kind='bar', color='lightgreen')\n",
    "plt.title('Clientes Más Frecuentes', fontsize=16)\n",
    "plt.xlabel('Cliente', fontsize=14)\n",
    "plt.ylabel('Cantidad de Compras', fontsize=14)\n",
    "plt.xticks(rotation=45, fontsize=12)\n",
    "plt.yticks(fontsize=12)\n",
    "plt.grid(axis='y', linestyle='--', alpha=0.7)\n",
    "plt.tight_layout()\n",
    "plt.show()\n",
    "\n",
    "# Gráfico 3: Estado de las ventas (entregadas y en camino)\n",
    "# Contar las ventas por estado\n",
    "ventas_por_estado = df['Estado'].value_counts()\n",
    "\n",
    "plt.figure(figsize=(6, 6))\n",
    "ventas_por_estado.plot(kind='pie', autopct='%1.1f%%', startangle=90, colors=['lightblue', 'lightcoral'])\n",
    "plt.title('Estado de las Ventas', fontsize=16)\n",
    "plt.ylabel('')\n",
    "plt.tight_layout()\n",
    "plt.show()"
   ]
  },
  {
   "cell_type": "code",
   "execution_count": null,
   "id": "490bfda1",
   "metadata": {},
   "outputs": [],
   "source": []
  },
  {
   "cell_type": "code",
   "execution_count": null,
   "id": "3967dd60",
   "metadata": {},
   "outputs": [],
   "source": []
  }
 ],
 "metadata": {
  "kernelspec": {
   "display_name": "Python 3 (ipykernel)",
   "language": "python",
   "name": "python3"
  },
  "language_info": {
   "codemirror_mode": {
    "name": "ipython",
    "version": 3
   },
   "file_extension": ".py",
   "mimetype": "text/x-python",
   "name": "python",
   "nbconvert_exporter": "python",
   "pygments_lexer": "ipython3",
   "version": "3.11.7"
  }
 },
 "nbformat": 4,
 "nbformat_minor": 5
}
