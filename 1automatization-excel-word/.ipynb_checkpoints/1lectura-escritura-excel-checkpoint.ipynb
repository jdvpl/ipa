{
 "cells": [
  {
   "cell_type": "code",
   "execution_count": 1,
   "id": "74095266",
   "metadata": {},
   "outputs": [],
   "source": [
    "import openpyxl"
   ]
  },
  {
   "cell_type": "code",
   "execution_count": 2,
   "id": "cdd29180",
   "metadata": {},
   "outputs": [
    {
     "data": {
      "text/plain": [
       "'Lectura de ficheros excel'"
      ]
     },
     "execution_count": 2,
     "metadata": {},
     "output_type": "execute_result"
    }
   ],
   "source": [
    "\"Lectura de ficheros excel\""
   ]
  },
  {
   "cell_type": "code",
   "execution_count": 4,
   "id": "a687a7d3",
   "metadata": {},
   "outputs": [],
   "source": [
    "libro=openpyxl.load_workbook(\"/Users/jdvpl/Documents/ipa/ipa/1automatization-excel-word/files/1Distrito_poblacion.xlsx\")"
   ]
  },
  {
   "cell_type": "code",
   "execution_count": 5,
   "id": "d7d89693",
   "metadata": {},
   "outputs": [
    {
     "data": {
      "text/plain": [
       "['Distrito_poblacion', 'figuras']"
      ]
     },
     "execution_count": 5,
     "metadata": {},
     "output_type": "execute_result"
    }
   ],
   "source": [
    "libro.sheetnames"
   ]
  },
  {
   "cell_type": "code",
   "execution_count": 6,
   "id": "f2fb0905",
   "metadata": {},
   "outputs": [],
   "source": [
    "sheet=libro[\"Distrito_poblacion\"]"
   ]
  },
  {
   "cell_type": "code",
   "execution_count": 7,
   "id": "550f3926",
   "metadata": {},
   "outputs": [
    {
     "data": {
      "text/plain": [
       "'DISTRITO'"
      ]
     },
     "execution_count": 7,
     "metadata": {},
     "output_type": "execute_result"
    }
   ],
   "source": [
    "sheet['A1'].value"
   ]
  },
  {
   "cell_type": "code",
   "execution_count": 8,
   "id": "e52b543f",
   "metadata": {},
   "outputs": [
    {
     "data": {
      "text/plain": [
       "'Huila'"
      ]
     },
     "execution_count": 8,
     "metadata": {},
     "output_type": "execute_result"
    }
   ],
   "source": [
    "sheet.cell(row=2,column=1).value"
   ]
  },
  {
   "cell_type": "code",
   "execution_count": 9,
   "id": "dc5989a9",
   "metadata": {},
   "outputs": [
    {
     "name": "stdout",
     "output_type": "stream",
     "text": [
      "DISTRITO:Población_Distrito\n",
      "Huila:151965\n",
      "Tolima:149718\n",
      "Cundinamarca:137401\n",
      "Putumayo:116903\n"
     ]
    }
   ],
   "source": [
    "for i in range(1,6):\n",
    "    print(sheet.cell(row=i,column=1).value+':'+str(sheet.cell(row=i,column=2).value))"
   ]
  },
  {
   "cell_type": "code",
   "execution_count": 10,
   "id": "b416e95b",
   "metadata": {},
   "outputs": [
    {
     "data": {
      "text/plain": [
       "'escritura de archivos'"
      ]
     },
     "execution_count": 10,
     "metadata": {},
     "output_type": "execute_result"
    }
   ],
   "source": [
    "\"escritura de archivos\""
   ]
  },
  {
   "cell_type": "code",
   "execution_count": 15,
   "id": "7066c900",
   "metadata": {},
   "outputs": [],
   "source": [
    "sheet[\"a2\"]=\"Huila\""
   ]
  },
  {
   "cell_type": "code",
   "execution_count": 16,
   "id": "b17d310e",
   "metadata": {},
   "outputs": [],
   "source": [
    "sheet[\"c2\"]=\"Top 5\""
   ]
  },
  {
   "cell_type": "code",
   "execution_count": 17,
   "id": "940a48a8",
   "metadata": {},
   "outputs": [],
   "source": [
    "sheet2=libro.create_sheet(title=\"other sheet\")"
   ]
  },
  {
   "cell_type": "code",
   "execution_count": 18,
   "id": "cb9d7987",
   "metadata": {},
   "outputs": [],
   "source": [
    "libro.save(\"/Users/jdvpl/Documents/ipa/ipa/1automatization-excel-word/files/1Distrito_poblacion.xlsx\")"
   ]
  },
  {
   "cell_type": "code",
   "execution_count": null,
   "id": "6919ddf8",
   "metadata": {},
   "outputs": [],
   "source": []
  }
 ],
 "metadata": {
  "kernelspec": {
   "display_name": "Python 3 (ipykernel)",
   "language": "python",
   "name": "python3"
  },
  "language_info": {
   "codemirror_mode": {
    "name": "ipython",
    "version": 3
   },
   "file_extension": ".py",
   "mimetype": "text/x-python",
   "name": "python",
   "nbconvert_exporter": "python",
   "pygments_lexer": "ipython3",
   "version": "3.9.7"
  }
 },
 "nbformat": 4,
 "nbformat_minor": 5
}
