{
 "cells": [
  {
   "cell_type": "code",
   "execution_count": 40,
   "id": "da241911",
   "metadata": {},
   "outputs": [],
   "source": [
    "import pandas as pd\n",
    "import ijson"
   ]
  },
  {
   "cell_type": "code",
   "execution_count": 41,
   "id": "9e63d2b6",
   "metadata": {},
   "outputs": [],
   "source": [
    "def json_large_to_excel(json_file, excel_file):\n",
    "    data = []\n",
    "    \n",
    "    # Lee el archivo JSON de forma incremental\n",
    "    with open(json_file, 'r', encoding='utf-8') as file:\n",
    "        # Usa ijson para analizar el archivo de forma incremental\n",
    "        parser = ijson.parse(file)\n",
    "        current_obj = {}\n",
    "        current_key = None\n",
    "        \n",
    "        for prefix, event, value in parser:\n",
    "            if event == 'start_map':\n",
    "                current_obj = {}\n",
    "            elif event == 'map_key':\n",
    "                current_key = value\n",
    "            elif event in ('string', 'number', 'boolean', 'null'):\n",
    "                current_obj[current_key] = value\n",
    "            elif event == 'start_array':\n",
    "                current_obj[current_key] = []\n",
    "            elif event == 'end_array':\n",
    "                pass\n",
    "            elif event == 'start_map':\n",
    "                current_obj[current_key].append({})\n",
    "            elif event == 'end_map':\n",
    "                pass\n",
    "            \n",
    "            if event in ('string', 'number', 'boolean', 'null'):\n",
    "                # Asegurarse de tomar solo la primera parte de un objeto anidado\n",
    "                if isinstance(current_obj[current_key], list):\n",
    "                    if len(current_obj[current_key]) == 1:\n",
    "                        current_obj[current_key] = current_obj[current_key][0]\n",
    "                    elif len(current_obj[current_key]) > 1:\n",
    "                        current_obj[current_key] = current_obj[current_key][0]\n",
    "                current_obj[current_key] = value\n",
    "            \n",
    "            elif event == 'end_map':\n",
    "                data.append(current_obj.copy())\n",
    "    \n",
    "    # Convertir el JSON a un DataFrame de pandas\n",
    "    df = pd.json_normalize(data)\n",
    "    \n",
    "    # Escribir el DataFrame en un archivo Excel\n",
    "    df.to_excel(excel_file, index=False)\n",
    "    \n",
    "    # Mensaje de confirmación\n",
    "    print(f'Archivo Excel \"{excel_file}\" generado correctamente.')\n"
   ]
  },
  {
   "cell_type": "code",
   "execution_count": 42,
   "id": "b930f788",
   "metadata": {},
   "outputs": [
    {
     "name": "stdout",
     "output_type": "stream",
     "text": [
      "Archivo Excel \"createdAccounts.xlsx\" generado correctamente.\n"
     ]
    }
   ],
   "source": [
    "json_file = './files/createdAccounts.json'\n",
    "excel_file = 'createdAccounts.xlsx'\n",
    "json_large_to_excel(json_file, excel_file)"
   ]
  },
  {
   "cell_type": "code",
   "execution_count": null,
   "id": "54614946",
   "metadata": {},
   "outputs": [],
   "source": []
  },
  {
   "cell_type": "code",
   "execution_count": null,
   "id": "e7c8f162",
   "metadata": {},
   "outputs": [],
   "source": []
  }
 ],
 "metadata": {
  "kernelspec": {
   "display_name": "Python 3 (ipykernel)",
   "language": "python",
   "name": "python3"
  },
  "language_info": {
   "codemirror_mode": {
    "name": "ipython",
    "version": 3
   },
   "file_extension": ".py",
   "mimetype": "text/x-python",
   "name": "python",
   "nbconvert_exporter": "python",
   "pygments_lexer": "ipython3",
   "version": "3.11.7"
  }
 },
 "nbformat": 4,
 "nbformat_minor": 5
}
