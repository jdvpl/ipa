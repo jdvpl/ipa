{
 "cells": [
  {
   "cell_type": "markdown",
   "id": "5f13758d-9cb8-4764-8f16-de04dd43b913",
   "metadata": {},
   "source": [
    "# JE AUTOMATIZADO"
   ]
  },
  {
   "cell_type": "code",
   "execution_count": 1,
   "id": "3837018f-3a66-4900-b64e-49332d32ba99",
   "metadata": {},
   "outputs": [],
   "source": [
    "import pyautogui\n",
    "import webbrowser\n",
    "from time import sleep\n"
   ]
  },
  {
   "cell_type": "code",
   "execution_count": 2,
   "id": "d3f5a192-3850-41c0-a322-a1e5d75cca00",
   "metadata": {},
   "outputs": [],
   "source": [
    "import pyautogui\n",
    "import webbrowser\n",
    "from time import sleep\n",
    "\n",
    "def open_teams():\n",
    "    webbrowser.open('msteams:')\n",
    "    sleep(15)\n",
    "\n",
    "def search_and_message(person_name, messages, repeat_count):\n",
    "    search_box = (600, 50)\n",
    "    first_result_box = (600, 200)\n",
    "    message_box = (600, 00)\n",
    "    search_delay = 1\n",
    "    message_delay = 2\n",
    "    \n",
    "    pyautogui.click(search_box)\n",
    "    sleep(search_delay)\n",
    "    \n",
    "    pyautogui.typewrite(person_name)\n",
    "    sleep(search_delay)\n",
    "    \n",
    "    pyautogui.press('enter')\n",
    "    sleep(search_delay)\n",
    "    \n",
    "    pyautogui.click(first_result_box)\n",
    "    sleep(search_delay)\n",
    "    \n",
    "    for i in range(repeat_count):\n",
    "        pyautogui.click(message_box)\n",
    "        sleep(message_delay)\n",
    "        \n",
    "        message = messages[i % len(messages)]\n",
    "        pyautogui.typewrite(message)\n",
    "        sleep(message_delay)\n",
    "        \n",
    "        pyautogui.press('enter')\n",
    "\n",
    "\n"
   ]
  },
  {
   "cell_type": "code",
   "execution_count": 3,
   "id": "0f7e56f4-0f73-4b33-b6e3-78c4c68ab739",
   "metadata": {},
   "outputs": [],
   "source": [
    "messages = [\n",
    "    \"👨‍💻me ayudas por fis \"\n",
    "]\n"
   ]
  },
  {
   "cell_type": "code",
   "execution_count": 4,
   "id": "dd3cb48f-855a-442c-a43b-cd03ba2a115a",
   "metadata": {},
   "outputs": [],
   "source": [
    "open_teams()\n",
    "search_and_message('Yara Vanessa Orozco Pinzon', messages, 5)"
   ]
  },
  {
   "cell_type": "code",
   "execution_count": null,
   "id": "78b00b66-1bd2-4982-9b00-3035f33471de",
   "metadata": {},
   "outputs": [],
   "source": []
  }
 ],
 "metadata": {
  "kernelspec": {
   "display_name": "Python 3 (ipykernel)",
   "language": "python",
   "name": "python3"
  },
  "language_info": {
   "codemirror_mode": {
    "name": "ipython",
    "version": 3
   },
   "file_extension": ".py",
   "mimetype": "text/x-python",
   "name": "python",
   "nbconvert_exporter": "python",
   "pygments_lexer": "ipython3",
   "version": "3.12.4"
  }
 },
 "nbformat": 4,
 "nbformat_minor": 5
}
