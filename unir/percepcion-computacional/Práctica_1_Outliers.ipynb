{
 "cells": [
  {
   "cell_type": "markdown",
   "metadata": {},
   "source": [
    "## DETECCIÓN DE OUTLIERS"
   ]
  },
  {
   "cell_type": "code",
   "execution_count": 2,
   "metadata": {},
   "outputs": [],
   "source": [
    "import pandas as pd\n",
    "import numpy as np\n",
    "from scipy import stats\n",
    "from sklearn.covariance import EllipticEnvelope\n",
    "import matplotlib.pyplot as plt"
   ]
  },
  {
   "cell_type": "markdown",
   "metadata": {},
   "source": [
    "Aquí se está importando la clase EllipticEnvelope de la sub-biblioteca covariance de scikit-learn. Esta clase es utilizada para modelar la distribución de los datos como una elipse y detectar outliers que se encuentran fuera de la elipse."
   ]
  },
  {
   "cell_type": "code",
   "execution_count": 3,
   "metadata": {},
   "outputs": [
    {
     "data": {
      "text/html": [
       "<div>\n",
       "<style scoped>\n",
       "    .dataframe tbody tr th:only-of-type {\n",
       "        vertical-align: middle;\n",
       "    }\n",
       "\n",
       "    .dataframe tbody tr th {\n",
       "        vertical-align: top;\n",
       "    }\n",
       "\n",
       "    .dataframe thead th {\n",
       "        text-align: right;\n",
       "    }\n",
       "</style>\n",
       "<table border=\"1\" class=\"dataframe\">\n",
       "  <thead>\n",
       "    <tr style=\"text-align: right;\">\n",
       "      <th></th>\n",
       "      <th>a</th>\n",
       "      <th>b</th>\n",
       "    </tr>\n",
       "  </thead>\n",
       "  <tbody>\n",
       "    <tr>\n",
       "      <th>0</th>\n",
       "      <td>0.149014</td>\n",
       "      <td>-0.041479</td>\n",
       "    </tr>\n",
       "    <tr>\n",
       "      <th>1</th>\n",
       "      <td>0.194307</td>\n",
       "      <td>0.456909</td>\n",
       "    </tr>\n",
       "    <tr>\n",
       "      <th>2</th>\n",
       "      <td>-0.070246</td>\n",
       "      <td>-0.070241</td>\n",
       "    </tr>\n",
       "    <tr>\n",
       "      <th>3</th>\n",
       "      <td>0.473764</td>\n",
       "      <td>0.230230</td>\n",
       "    </tr>\n",
       "    <tr>\n",
       "      <th>4</th>\n",
       "      <td>-0.140842</td>\n",
       "      <td>0.162768</td>\n",
       "    </tr>\n",
       "    <tr>\n",
       "      <th>...</th>\n",
       "      <td>...</td>\n",
       "      <td>...</td>\n",
       "    </tr>\n",
       "    <tr>\n",
       "      <th>195</th>\n",
       "      <td>-5.114441</td>\n",
       "      <td>0.646251</td>\n",
       "    </tr>\n",
       "    <tr>\n",
       "      <th>196</th>\n",
       "      <td>5.631630</td>\n",
       "      <td>0.277174</td>\n",
       "    </tr>\n",
       "    <tr>\n",
       "      <th>197</th>\n",
       "      <td>1.552784</td>\n",
       "      <td>2.348984</td>\n",
       "    </tr>\n",
       "    <tr>\n",
       "      <th>198</th>\n",
       "      <td>-0.545507</td>\n",
       "      <td>1.530697</td>\n",
       "    </tr>\n",
       "    <tr>\n",
       "      <th>199</th>\n",
       "      <td>1.011772</td>\n",
       "      <td>4.813896</td>\n",
       "    </tr>\n",
       "  </tbody>\n",
       "</table>\n",
       "<p>200 rows × 2 columns</p>\n",
       "</div>"
      ],
      "text/plain": [
       "            a         b\n",
       "0    0.149014 -0.041479\n",
       "1    0.194307  0.456909\n",
       "2   -0.070246 -0.070241\n",
       "3    0.473764  0.230230\n",
       "4   -0.140842  0.162768\n",
       "..        ...       ...\n",
       "195 -5.114441  0.646251\n",
       "196  5.631630  0.277174\n",
       "197  1.552784  2.348984\n",
       "198 -0.545507  1.530697\n",
       "199  1.011772  4.813896\n",
       "\n",
       "[200 rows x 2 columns]"
      ]
     },
     "execution_count": 3,
     "metadata": {},
     "output_type": "execute_result"
    }
   ],
   "source": [
    "# Carga de datos.\n",
    "df = pd.read_csv(\"outliers.csv\")\n",
    "df"
   ]
  },
  {
   "cell_type": "markdown",
   "metadata": {},
   "source": [
    "Dataset sencillo con solo 2 atributos, que sería A y B"
   ]
  },
  {
   "cell_type": "markdown",
   "metadata": {},
   "source": [
    "### 1) EllipticEnvelope()"
   ]
  },
  {
   "cell_type": "markdown",
   "metadata": {},
   "source": [
    "Mayor información:\n",
    "https://scikit-learn.org/0.15/modules/generated/sklearn.covariance.EllipticEnvelope.html\n",
    "\n",
    "Parámetros importantes EllipticEnvelope:\n",
    "\n",
    "support_fraction=None: Este parámetro controla la proporción de los datos que se utilizan para calcular la \"elipse\" central de los datos. Al dejarlo como None, el algoritmo determinará automáticamente la mejor fracción de soporte basada en los datos.\n",
    "\n",
    "contamination=0.25: Este parámetro define la proporción de outliers esperados en los datos. En este caso, se espera que el 25% de los datos sean outliers. Es importante especificar este valor porque afecta cómo se ajusta la elipse: cuanto mayor es el valor, más datos serán considerados como outliers.\n",
    "\n",
    "random_state=42: Este parámetro fija una semilla para el generador de números aleatorios. Es útil para asegurar que los resultados sean reproducibles. Al utilizar random_state=42, obtendrás los mismos resultados cada vez que ejecutes el código, lo que facilita la comparación y validación de resultados."
   ]
  },
  {
   "cell_type": "code",
   "execution_count": 3,
   "metadata": {},
   "outputs": [
    {
     "name": "stdout",
     "output_type": "stream",
     "text": [
      "[ 1  1  1  1  1  1  1  1  1  1  1  1  1  1  1  1  1  1  1  1  1  1  1  1\n",
      "  1  1  1  1  1  1  1  1  1  1  1  1  1  1  1  1  1  1  1  1  1  1  1  1\n",
      "  1  1  1  1  1  1  1  1  1  1  1  1  1  1  1  1  1  1  1  1  1  1  1  1\n",
      "  1  1  1  1  1  1  1  1  1  1  1  1  1  1  1  1  1  1  1  1  1  1  1  1\n",
      "  1  1  1  1  1  1  1  1  1  1  1  1  1  1  1  1  1  1  1  1  1  1  1  1\n",
      "  1  1  1  1  1  1  1  1  1  1  1  1  1  1  1  1  1  1  1  1  1  1  1  1\n",
      "  1  1  1  1  1  1 -1 -1 -1 -1 -1 -1 -1 -1 -1 -1 -1 -1 -1 -1 -1 -1 -1 -1\n",
      " -1 -1 -1 -1 -1 -1 -1 -1 -1 -1 -1 -1 -1 -1 -1 -1 -1 -1 -1 -1 -1 -1 -1 -1\n",
      " -1 -1 -1 -1 -1 -1 -1 -1]\n",
      "\n",
      "Outliers en la posición: \n",
      " [150 151 152 153 154 155 156 157 158 159 160 161 162 163 164 165 166 167\n",
      " 168 169 170 171 172 173 174 175 176 177 178 179 180 181 182 183 184 185\n",
      " 186 187 188 189 190 191 192 193 194 195 196 197 198 199]\n",
      "\n",
      "Número de outliers: \n",
      " 50\n"
     ]
    }
   ],
   "source": [
    "# Entrenamos un objeto de tipo EllipticEnvelope\n",
    "\n",
    "#Se crea un objeto de la clase EllipticEnvelope. Se configuran varios parámetros\n",
    "algorithm = EllipticEnvelope(support_fraction=None, contamination=0.25, random_state=42)\n",
    "\n",
    "outlier_method = algorithm.fit(df) #Trabajamos sobre toda la matriz completa. Y entrenamos el algoritmo con el dataframe\n",
    "\n",
    "# Aplicamos el método de detección de outliers entrenado con los parámetros dados sobre nuesto dataset\n",
    "df_outliers = outlier_method.predict(df) #Realizó la predicción sobre el dataframe. 1 dato normal. -1 dato anómalo\n",
    "print(df_outliers)\n",
    "\n",
    "# Determinar la posición de los outliers\n",
    "pos_outliers = np.where(df_outliers==-1)[0]\n",
    "print('\\nOutliers en la posición: \\n', pos_outliers)\n",
    "\n",
    "# Determinar el número de outliers\n",
    "print('\\nNúmero de outliers: \\n', len(pos_outliers))"
   ]
  },
  {
   "cell_type": "code",
   "execution_count": 4,
   "metadata": {},
   "outputs": [],
   "source": [
    "#Función detección aoutlier diferentes algoritmos\n",
    "# Definimos una función que, dado un determinado \"df\" y un \"algorithm\", devuelva la matriz y la posición de outliers\n",
    "def find_outliers(df, algorithm):\n",
    "    \n",
    "    #???\n",
    "\n",
    "    return df_outliers, pos_outliers"
   ]
  },
  {
   "cell_type": "markdown",
   "metadata": {},
   "source": [
    "### Gráficamente"
   ]
  },
  {
   "cell_type": "code",
   "execution_count": 5,
   "metadata": {},
   "outputs": [],
   "source": [
    "import matplotlib.pyplot as plt\n",
    "import numpy as np\n",
    "\n",
    "def grafico_outliers(df, outlier_method, n_outliers, threshold, x_min, x_max):\n",
    "    \"\"\"\n",
    "    Grafica los datos y los outliers detectados.\n",
    "\n",
    "    Parámetros:\n",
    "    - df: DataFrame con los datos a analizar.\n",
    "    - outlier_method: Objeto del modelo entrenado de detección de outliers (EllipticEnvelope).\n",
    "    - n_outliers: Número aproximado de outliers a mostrar en la gráfica.\n",
    "    - threshold: Umbral para determinar si una observación es un outlier.\n",
    "    - x_min, x_max: Valores para establecer los límites del eje X en la gráfica.\n",
    "    \"\"\"\n",
    "    # Obtener los valores de la función de decisión\n",
    "    scores_pred = outlier_method.decision_function(df)\n",
    "    \n",
    "    # Identificar los outliers\n",
    "    outliers = df[scores_pred <= threshold]\n",
    "    \n",
    "    # Crear una figura y un set de ejes\n",
    "    plt.figure(figsize=(10, 6))\n",
    "    \n",
    "    # Dibujar los puntos de datos\n",
    "    plt.scatter(df.iloc[:, 0], df.iloc[:, 1], color='blue', label='Datos', alpha=0.5)\n",
    "    \n",
    "    # Dibujar los outliers\n",
    "    plt.scatter(outliers.iloc[:, 0], outliers.iloc[:, 1], color='red', label='Outliers', alpha=0.7)\n",
    "    \n",
    "    # Dibujar la frontera de la elipse\n",
    "    xx, yy = np.meshgrid(np.linspace(x_min, x_max, 500), np.linspace(x_min, x_max, 500))\n",
    "    zz = outlier_method.decision_function(np.c_[xx.ravel(), yy.ravel()])\n",
    "    zz = zz.reshape(xx.shape)\n",
    "    \n",
    "    plt.contour(xx, yy, zz, levels=[threshold], linewidths=2, colors='green')\n",
    "    \n",
    "    # Títulos y etiquetas\n",
    "    plt.title('Detección de Outliers usando EllipticEnvelope')\n",
    "    plt.xlabel('X')\n",
    "    plt.ylabel('Y')\n",
    "    plt.legend()\n",
    "    \n",
    "    # Mostrar la gráfica\n",
    "    plt.show()"
   ]
  },
  {
   "cell_type": "code",
   "execution_count": 6,
   "metadata": {},
   "outputs": [
    {
     "name": "stderr",
     "output_type": "stream",
     "text": [
      "/opt/anaconda3/lib/python3.12/site-packages/sklearn/base.py:493: UserWarning: X does not have valid feature names, but EllipticEnvelope was fitted with feature names\n",
      "  warnings.warn(\n"
     ]
    },
    {
     "data": {
      "image/png": "[encoded data removed]",
      "text/plain": [
       "<Figure size 1000x600 with 1 Axes>"
      ]
     },
     "metadata": {},
     "output_type": "display_data"
    }
   ],
   "source": [
    "# Limpieza de datos: detección de outliers.\n",
    "outlier_method = EllipticEnvelope().fit(df)\n",
    "scores_pred = outlier_method.decision_function(df)\n",
    "threshold = stats.scoreatpercentile(scores_pred, 25)\n",
    "\n",
    "# Dibujar gráfica de outliers.\n",
    "grafico_outliers(df, outlier_method, 150, threshold, -7, 7)\n",
    "# df es el DataFrame con los datos a analizar\n",
    "# outlier_method es el modelo EllipticEnvelope entrenado\n",
    "# n_outliers es un número aproximado de outliers a visualizar\n",
    "# threshold es el umbral calculado para la función de decisión\n",
    "# x_min, x_max son los límites para los ejes de la gráfica"
   ]
  },
  {
   "cell_type": "markdown",
   "metadata": {},
   "source": [
    "### 2) Box plot"
   ]
  },
  {
   "cell_type": "markdown",
   "metadata": {},
   "source": [
    "Para un sólo atributo (No toda la matriz)"
   ]
  },
  {
   "cell_type": "code",
   "execution_count": 7,
   "metadata": {},
   "outputs": [
    {
     "name": "stdout",
     "output_type": "stream",
     "text": [
      "limite inferior:  -1.0853060827395105\n",
      "limite superior:  1.0119554520872196\n",
      "Posición de outliers:  [150 153 154 157 159 160 162 165 168 169 171 172 174 175 177 178 181 184\n",
      " 185 186 187 190 191 192 193 195 151 152 155 156 161 163 164 166 167 173\n",
      " 176 179 180 182 188 189 196 197]\n",
      "Número de outliers:  44\n"
     ]
    },
    {
     "data": {
      "image/png": "[encoded data removed]",
      "text/plain": [
       "<Figure size 640x480 with 1 Axes>"
      ]
     },
     "metadata": {},
     "output_type": "display_data"
    }
   ],
   "source": [
    "# Seleccionamos el atributo que vamos a medir\n",
    "a = df['a']\n",
    "\n",
    "# Seleccionamos los umbrales a partir de los cuales vamos a considerar outliers\n",
    "Q1 = stats.scoreatpercentile(a, 25)\n",
    "Q3 = stats.scoreatpercentile(a, 75)\n",
    "RIC = Q3 - Q1\n",
    "li = Q1 - 1.5*RIC #xmin\n",
    "ls = Q3 + 1.5*RIC #xmax\n",
    "\n",
    "# Observamos los límites inferior y superior\n",
    "print('limite inferior: ', li)\n",
    "print('limite superior: ', ls)\n",
    "\n",
    "# Buscamos la posición de los outliers\n",
    "pos_i = np.where(a<li)[0]\n",
    "pos_s = np.where(a>ls)[0]\n",
    "pos_outliers = np.concatenate((pos_i, pos_s))\n",
    "print('Posición de outliers: ', pos_outliers)\n",
    "print('Número de outliers: ', len(pos_outliers))\n",
    "\n",
    "# Dibujamos el diagrama de caja y bigotes\n",
    "prop = plt.boxplot(a)\n",
    "plt.boxplot(a)\n",
    "plt.show()"
   ]
  },
  {
   "cell_type": "code",
   "execution_count": 14,
   "metadata": {},
   "outputs": [],
   "source": [
    "# Definir una función que, dada una columna de un dataframe, devuelva la posición de los outliers según el método box plot\n",
    "def find_limits_BP(variable):\n",
    "    \n",
    "    #???\n",
    "    \n",
    "    return pos_outliers\n"
   ]
  },
  {
   "cell_type": "markdown",
   "metadata": {},
   "source": [
    "### Outliers para cada atributo"
   ]
  },
  {
   "cell_type": "code",
   "execution_count": 15,
   "metadata": {},
   "outputs": [
    {
     "name": "stdout",
     "output_type": "stream",
     "text": [
      "limite inferior:  -1.0853060827395105\n",
      "limite superior:  1.0119554520872196\n",
      "Posición de outliers:  [150 153 154 157 159 160 162 165 168 169 171 172 174 175 177 178 181 184\n",
      " 185 186 187 190 191 192 193 195 151 152 155 156 161 163 164 166 167 173\n",
      " 176 179 180 182 188 189 196 197]\n",
      "Número de outliers:  44\n"
     ]
    },
    {
     "data": {
      "image/png": "[encoded data removed]",
      "text/plain": [
       "<Figure size 640x480 with 1 Axes>"
      ]
     },
     "metadata": {},
     "output_type": "display_data"
    },
    {
     "name": "stdout",
     "output_type": "stream",
     "text": [
      "limite inferior:  -1.0853060827395105\n",
      "limite superior:  1.0119554520872196\n",
      "Posición de outliers:  [150 153 154 157 159 160 162 165 168 169 171 172 174 175 177 178 181 184\n",
      " 185 186 187 190 191 192 193 195 151 152 155 156 161 163 164 166 167 173\n",
      " 176 179 180 182 188 189 196 197]\n",
      "Número de outliers:  44\n"
     ]
    },
    {
     "data": {
      "image/png": "[encoded data removed]",
      "text/plain": [
       "<Figure size 640x480 with 1 Axes>"
      ]
     },
     "metadata": {},
     "output_type": "display_data"
    }
   ],
   "source": [
    "# Creamos un bucle for que estime los valores outliers de cada atributo\n",
    "headers = df.columns # nombre de los atributos del CSV\n",
    "pos_outliers = []\n",
    "for i in range(len(headers)): #primera iteración i=a. Segunda iteración i=b\n",
    "    variable = #??? # Atributo i. Cabecera de a, luego de b\n",
    "    pos_out = #??? # Buscamos los outliers en esa variable con la función que hemos creado\n",
    "    pos_out = np.expand_dims(pos_out, axis=1) # Extpandimos las dimensiones\n",
    "    pos_outliers.append(pos_out) # Lo añadimos en una lista"
   ]
  },
  {
   "cell_type": "markdown",
   "metadata": {},
   "source": [
    "Aquí se detectó dos cajas de bigotes, una para el atributo A y otra para el atributo B."
   ]
  },
  {
   "cell_type": "markdown",
   "metadata": {},
   "source": [
    "Unir los outliers de toda la matriz:"
   ]
  },
  {
   "cell_type": "code",
   "execution_count": 16,
   "metadata": {},
   "outputs": [
    {
     "name": "stdout",
     "output_type": "stream",
     "text": [
      "Posiciones de outliers totales:  [150 151 152 153 154 155 156 157 159 160 161 162 163 164 165 166 167 168\n",
      " 169 171 172 173 174 175 176 177 178 179 180 181 182 184 185 186 187 188\n",
      " 189 190 191 192 193 195 196 197]\n",
      "Numero de outliers totales:  44\n"
     ]
    }
   ],
   "source": [
    "# Concatenamos todas las posiciones de outliers\n",
    "po = np.vstack(pos_outliers)\n",
    "\n",
    "# Vemos las posiciones de todos los outliers\n",
    "pos_out = np.unique(po) #Los repetidos solo se detectan una vez\n",
    "print('Posiciones de outliers totales: ', pos_out)\n",
    "\n",
    "# Observamos el número de outliers\n",
    "print('Numero de outliers totales: ', len(pos_out))"
   ]
  },
  {
   "cell_type": "markdown",
   "metadata": {},
   "source": [
    "### 3) Otros métodos similares"
   ]
  },
  {
   "cell_type": "markdown",
   "metadata": {},
   "source": [
    "Descripción del Algoritmo IsolationForest\n",
    "IsolationForest es un algoritmo diseñado específicamente para la detección de outliers. A diferencia de otros métodos que modelan la distribución de los datos normales y luego identifican las desviaciones, IsolationForest se basa en la idea de \"aislamiento\". El concepto clave es que los outliers son más fáciles de aislar que los puntos normales, ya que tienden a ser escasos y se encuentran lejos de otros puntos de datos.\n",
    "\n",
    "Parámetros del IsolationForest\n",
    "n_estimators=100:\n",
    "\n",
    "Este parámetro define el número de árboles que se utilizan en el bosque de aislamiento. En este caso, se están utilizando 100 árboles.\n",
    "Un mayor número de estimadores (árboles) generalmente mejora la robustez del modelo, aunque también aumenta el costo computacional.\n",
    "max_samples='auto':\n",
    "\n",
    "Este parámetro controla el número máximo de muestras que se utilizarán para entrenar cada árbol del bosque.\n",
    "Cuando se establece en 'auto', el valor predeterminado es min(256, n_samples), lo que significa que cada árbol se entrenará con un máximo de 256 muestras o con el número total de muestras si este es menor a 256. Esto es un valor eficiente que equilibra el rendimiento y la precisión.\n",
    "contamination='auto':\n",
    "\n",
    "Este parámetro especifica la proporción de outliers esperados en los datos. Es un valor que indica qué fracción de los datos debería considerarse como atípica.\n",
    "Al establecerse en 'auto', el algoritmo estima esta proporción automáticamente según los datos de entrada. Esta es una opción útil cuando no se tiene una idea clara de cuántos outliers esperar en los datos."
   ]
  },
  {
   "cell_type": "code",
   "execution_count": 13,
   "metadata": {},
   "outputs": [
    {
     "name": "stdout",
     "output_type": "stream",
     "text": [
      "\n",
      "Outliers en la posición: \n",
      " [150 151 152 153 154 155 156 157 158 159 160 161 162 163 164 165 166 167\n",
      " 168 169 170 171 172 173 174 175 176 177 178 179 180 181 182 183 184 185\n",
      " 186 187 188 189 190 191 192 193 194 195 196 197 199]\n",
      "\n",
      "Número de outliers: \n",
      " 49\n",
      "49\n"
     ]
    }
   ],
   "source": [
    "from sklearn.ensemble import IsolationForest\n",
    "from sklearn.svm import OneClassSVM\n",
    "from sklearn.neighbors import LocalOutlierFactor\n",
    "\n",
    "IF = IsolationForest(n_estimators=100, max_samples='auto', contamination='auto') #Aislando muestras por repetición.\n",
    "# OC_SVM = ???\n",
    "# LOF = ???\n",
    "\n",
    "\n",
    "#Función detección aoutlier diferentes algoritmos\n",
    "df_outliers, pos_outliers = find_outliers(df, IF) #Llamamos la función que creamos arriba.\n",
    "print(len(pos_outliers))"
   ]
  },
  {
   "cell_type": "markdown",
   "metadata": {},
   "source": [
    "### Para eliminación de outliers"
   ]
  },
  {
   "cell_type": "code",
   "execution_count": null,
   "metadata": {},
   "outputs": [],
   "source": [
    "# Eliminamos los outliers\n",
    "new_df = df[df_outliers==1]\n",
    "print(new_df)"
   ]
  }
 ],
 "metadata": {
  "kernelspec": {
   "display_name": "Python 3 (ipykernel)",
   "language": "python",
   "name": "python3"
  },
  "language_info": {
   "codemirror_mode": {
    "name": "ipython",
    "version": 3
   },
   "file_extension": ".py",
   "mimetype": "text/x-python",
   "name": "python",
   "nbconvert_exporter": "python",
   "pygments_lexer": "ipython3",
   "version": "3.12.4"
  }
 },
 "nbformat": 4,
 "nbformat_minor": 4
}
