{
 "cells": [
  {
   "cell_type": "code",
   "execution_count": 53,
   "id": "da241911",
   "metadata": {},
   "outputs": [],
   "source": [
    "import pandas as pd\n",
    "import json"
   ]
  },
  {
   "cell_type": "code",
   "execution_count": 54,
   "id": "9e63d2b6",
   "metadata": {},
   "outputs": [],
   "source": [
    "def json_to_excel(json_file, excel_file):\n",
    "    \"\"\"\n",
    "    Convierte un archivo JSON en un archivo Excel manteniendo la estructura de los campos anidados.\n",
    "    \n",
    "    Args:\n",
    "    - json_file (str): Ruta del archivo JSON de entrada.\n",
    "    - excel_file (str): Nombre del archivo Excel de salida.\n",
    "    \"\"\"\n",
    "    # Leer el archivo JSON\n",
    "    with open(json_file, 'r') as f:\n",
    "        data = json.load(f)\n",
    "\n",
    "    # Convertir a DataFrame\n",
    "    df = pd.json_normalize(data)\n",
    "\n",
    "    # Guardar en un archivo Excel manteniendo los campos anidados como una sola columna\n",
    "    df.to_excel(excel_file, index=False)\n",
    "    print(f\"Archivo Excel guardado correctamente: {excel_file}\")"
   ]
  },
  {
   "cell_type": "code",
   "execution_count": 55,
   "id": "b930f788",
   "metadata": {},
   "outputs": [
    {
     "name": "stdout",
     "output_type": "stream",
     "text": [
      "Archivo Excel guardado correctamente: ./files/createdAccounts.xlsx\n"
     ]
    }
   ],
   "source": [
    "json_file = './files/createdAccounts.json'\n",
    "excel_file = './files/createdAccounts.xlsx'\n",
    "json_to_excel(json_file, excel_file)"
   ]
  },
  {
   "cell_type": "code",
   "execution_count": null,
   "id": "54614946",
   "metadata": {},
   "outputs": [],
   "source": []
  },
  {
   "cell_type": "code",
   "execution_count": null,
   "id": "e7c8f162",
   "metadata": {},
   "outputs": [],
   "source": []
  }
 ],
 "metadata": {
  "kernelspec": {
   "display_name": "Python 3 (ipykernel)",
   "language": "python",
   "name": "python3"
  },
  "language_info": {
   "codemirror_mode": {
    "name": "ipython",
    "version": 3
   },
   "file_extension": ".py",
   "mimetype": "text/x-python",
   "name": "python",
   "nbconvert_exporter": "python",
   "pygments_lexer": "ipython3",
   "version": "3.11.7"
  }
 },
 "nbformat": 4,
 "nbformat_minor": 5
}
