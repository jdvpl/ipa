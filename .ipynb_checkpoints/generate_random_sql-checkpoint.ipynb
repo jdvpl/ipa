{
 "cells": [
  {
   "cell_type": "code",
   "execution_count": 1,
   "id": "6b2b67df",
   "metadata": {},
   "outputs": [
    {
     "name": "stdout",
     "output_type": "stream",
     "text": [
      "Archivo insert_users.sql generado exitosamente.\n"
     ]
    }
   ],
   "source": [
    "from faker import Faker\n",
    "\n",
    "# Crear una instancia de Faker\n",
    "fake = Faker()\n",
    "\n",
    "# Generar script SQL para insertar 1000 usuarios\n",
    "with open(\"insert_users.sql\", \"w\") as file:\n",
    "    file.write(\"INSERT INTO users (email, last_name, name)\\nVALUES\\n\")\n",
    "\n",
    "    for i in range(1, 1001):\n",
    "        email = fake.email()\n",
    "        last_name = fake.last_name()\n",
    "        name = fake.first_name()\n",
    "        line = f\"('{email}', '{last_name}', '{name}')\"\n",
    "        \n",
    "        if i != 1000:\n",
    "            line += \",\\n\"\n",
    "        else:\n",
    "            line += \";\\n\"\n",
    "        \n",
    "        file.write(line)\n",
    "\n",
    "print(\"Archivo insert_users.sql generado exitosamente.\")\n",
    "\n"
   ]
  }
 ],
 "metadata": {
  "kernelspec": {
   "display_name": "Python 3 (ipykernel)",
   "language": "python",
   "name": "python3"
  },
  "language_info": {
   "codemirror_mode": {
    "name": "ipython",
    "version": 3
   },
   "file_extension": ".py",
   "mimetype": "text/x-python",
   "name": "python",
   "nbconvert_exporter": "python",
   "pygments_lexer": "ipython3",
   "version": "3.11.7"
  }
 },
 "nbformat": 4,
 "nbformat_minor": 5
}
