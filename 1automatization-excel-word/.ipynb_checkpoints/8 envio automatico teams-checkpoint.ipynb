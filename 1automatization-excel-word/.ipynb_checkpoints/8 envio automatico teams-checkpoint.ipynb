{
 "cells": [
  {
   "cell_type": "markdown",
   "id": "5f13758d-9cb8-4764-8f16-de04dd43b913",
   "metadata": {},
   "source": [
    "# JE AUTOMATIZADO"
   ]
  },
  {
   "cell_type": "code",
   "execution_count": 3,
   "id": "3837018f-3a66-4900-b64e-49332d32ba99",
   "metadata": {},
   "outputs": [],
   "source": [
    "import pyautogui\n",
    "import webbrowser\n",
    "from time import sleep\n"
   ]
  },
  {
   "cell_type": "code",
   "execution_count": 4,
   "id": "d3f5a192-3850-41c0-a322-a1e5d75cca00",
   "metadata": {},
   "outputs": [
    {
     "ename": "NameError",
     "evalue": "name 'messages' is not defined",
     "output_type": "error",
     "traceback": [
      "\u001b[0;31m---------------------------------------------------------------------------\u001b[0m",
      "\u001b[0;31mNameError\u001b[0m                                 Traceback (most recent call last)",
      "Cell \u001b[0;32mIn[4], line 39\u001b[0m\n\u001b[1;32m     36\u001b[0m         pyautogui\u001b[38;5;241m.\u001b[39mpress(\u001b[38;5;124m'\u001b[39m\u001b[38;5;124menter\u001b[39m\u001b[38;5;124m'\u001b[39m)\n\u001b[1;32m     38\u001b[0m open_teams()\n\u001b[0;32m---> 39\u001b[0m search_and_message(\u001b[38;5;124m'\u001b[39m\u001b[38;5;124mJuan Daniel Suarez Amado\u001b[39m\u001b[38;5;124m'\u001b[39m, messages, \u001b[38;5;241m5\u001b[39m)\n",
      "\u001b[0;31mNameError\u001b[0m: name 'messages' is not defined"
     ]
    }
   ],
   "source": [
    "import pyautogui\n",
    "import webbrowser\n",
    "from time import sleep\n",
    "\n",
    "def open_teams():\n",
    "    webbrowser.open('msteams:')\n",
    "    sleep(15)\n",
    "\n",
    "def search_and_message(person_name, messages, repeat_count):\n",
    "    search_box = (600, 50)\n",
    "    first_result_box = (600, 200)\n",
    "    message_box = (600, 00)\n",
    "    search_delay = 1\n",
    "    message_delay = 2\n",
    "    \n",
    "    pyautogui.click(search_box)\n",
    "    sleep(search_delay)\n",
    "    \n",
    "    pyautogui.typewrite(person_name)\n",
    "    sleep(search_delay)\n",
    "    \n",
    "    pyautogui.press('enter')\n",
    "    sleep(search_delay)\n",
    "    \n",
    "    pyautogui.click(first_result_box)\n",
    "    sleep(search_delay)\n",
    "    \n",
    "    for i in range(repeat_count):\n",
    "        pyautogui.click(message_box)\n",
    "        sleep(message_delay)\n",
    "        \n",
    "        message = messages[i % len(messages)]\n",
    "        pyautogui.typewrite(message)\n",
    "        sleep(message_delay)\n",
    "        \n",
    "        pyautogui.press('enter')\n",
    "\n",
    "open_teams()\n",
    "search_and_message('Juan Daniel Suarez Amado', messages, 5)\n"
   ]
  },
  {
   "cell_type": "code",
   "execution_count": 60,
   "id": "0f7e56f4-0f73-4b33-b6e3-78c4c68ab739",
   "metadata": {},
   "outputs": [
    {
     "ename": "KeyboardInterrupt",
     "evalue": "",
     "output_type": "error",
     "traceback": [
      "\u001b[0;31m---------------------------------------------------------------------------\u001b[0m",
      "\u001b[0;31mKeyboardInterrupt\u001b[0m                         Traceback (most recent call last)",
      "Cell \u001b[0;32mIn[60], line 53\u001b[0m\n\u001b[1;32m      1\u001b[0m messages \u001b[38;5;241m=\u001b[39m [\n\u001b[1;32m      2\u001b[0m     \u001b[38;5;124m\"\u001b[39m\u001b[38;5;124m👨‍💻 La arquitectura hexagonal fomenta la independencia del código respecto a frameworks. #Hexagonal\u001b[39m\u001b[38;5;124m\"\u001b[39m,\n\u001b[1;32m      3\u001b[0m     \u001b[38;5;124m\"\u001b[39m\u001b[38;5;124m🔧 Usa interfaces para definir contratos en TypeScript. #TypeScript #SOLID\u001b[39m\u001b[38;5;124m\"\u001b[39m,\n\u001b[0;32m   (...)\u001b[0m\n\u001b[1;32m     50\u001b[0m     \u001b[38;5;124m\"\u001b[39m\u001b[38;5;124m⚙️ Implementa middleware en Node.js para manejar peticiones. #NodeJS\u001b[39m\u001b[38;5;124m\"\u001b[39m\n\u001b[1;32m     51\u001b[0m ]\n\u001b[1;32m     52\u001b[0m open_teams()\n\u001b[0;32m---> 53\u001b[0m search_and_message(\u001b[38;5;124m'\u001b[39m\u001b[38;5;124mJuan Camilo Hernandez Silva\u001b[39m\u001b[38;5;124m'\u001b[39m, messages,\u001b[38;5;241m80\u001b[39m)\n",
      "Cell \u001b[0;32mIn[59], line 25\u001b[0m, in \u001b[0;36msearch_and_message\u001b[0;34m(person_name, messages, repeat_count)\u001b[0m\n\u001b[1;32m     22\u001b[0m sleep(message_delay)\n\u001b[1;32m     24\u001b[0m message \u001b[38;5;241m=\u001b[39m messages[i \u001b[38;5;241m%\u001b[39m \u001b[38;5;28mlen\u001b[39m(messages)]\n\u001b[0;32m---> 25\u001b[0m pyautogui\u001b[38;5;241m.\u001b[39mtypewrite(message)\n\u001b[1;32m     26\u001b[0m sleep(message_delay)\n\u001b[1;32m     28\u001b[0m pyautogui\u001b[38;5;241m.\u001b[39mpress(\u001b[38;5;124m'\u001b[39m\u001b[38;5;124menter\u001b[39m\u001b[38;5;124m'\u001b[39m)\n",
      "File \u001b[0;32m/opt/anaconda3/lib/python3.12/site-packages/pyautogui/__init__.py:594\u001b[0m, in \u001b[0;36m_genericPyAutoGUIChecks.<locals>.wrapper\u001b[0;34m(*args, **kwargs)\u001b[0m\n\u001b[1;32m    591\u001b[0m \u001b[38;5;129m@functools\u001b[39m\u001b[38;5;241m.\u001b[39mwraps(wrappedFunction)\n\u001b[1;32m    592\u001b[0m \u001b[38;5;28;01mdef\u001b[39;00m \u001b[38;5;21mwrapper\u001b[39m(\u001b[38;5;241m*\u001b[39margs, \u001b[38;5;241m*\u001b[39m\u001b[38;5;241m*\u001b[39mkwargs):\n\u001b[1;32m    593\u001b[0m     failSafeCheck()\n\u001b[0;32m--> 594\u001b[0m     returnVal \u001b[38;5;241m=\u001b[39m wrappedFunction(\u001b[38;5;241m*\u001b[39margs, \u001b[38;5;241m*\u001b[39m\u001b[38;5;241m*\u001b[39mkwargs)\n\u001b[1;32m    595\u001b[0m     _handlePause(kwargs\u001b[38;5;241m.\u001b[39mget(\u001b[38;5;124m\"\u001b[39m\u001b[38;5;124m_pause\u001b[39m\u001b[38;5;124m\"\u001b[39m, \u001b[38;5;28;01mTrue\u001b[39;00m))\n\u001b[1;32m    596\u001b[0m     \u001b[38;5;28;01mreturn\u001b[39;00m returnVal\n",
      "File \u001b[0;32m/opt/anaconda3/lib/python3.12/site-packages/pyautogui/__init__.py:1685\u001b[0m, in \u001b[0;36mtypewrite\u001b[0;34m(message, interval, logScreenshot, _pause)\u001b[0m\n\u001b[1;32m   1683\u001b[0m \u001b[38;5;28;01mif\u001b[39;00m \u001b[38;5;28mlen\u001b[39m(c) \u001b[38;5;241m>\u001b[39m \u001b[38;5;241m1\u001b[39m:\n\u001b[1;32m   1684\u001b[0m     c \u001b[38;5;241m=\u001b[39m c\u001b[38;5;241m.\u001b[39mlower()\n\u001b[0;32m-> 1685\u001b[0m press(c, _pause\u001b[38;5;241m=\u001b[39m\u001b[38;5;28;01mFalse\u001b[39;00m)\n\u001b[1;32m   1686\u001b[0m time\u001b[38;5;241m.\u001b[39msleep(interval)\n\u001b[1;32m   1687\u001b[0m failSafeCheck()\n",
      "File \u001b[0;32m/opt/anaconda3/lib/python3.12/site-packages/pyautogui/__init__.py:594\u001b[0m, in \u001b[0;36m_genericPyAutoGUIChecks.<locals>.wrapper\u001b[0;34m(*args, **kwargs)\u001b[0m\n\u001b[1;32m    591\u001b[0m \u001b[38;5;129m@functools\u001b[39m\u001b[38;5;241m.\u001b[39mwraps(wrappedFunction)\n\u001b[1;32m    592\u001b[0m \u001b[38;5;28;01mdef\u001b[39;00m \u001b[38;5;21mwrapper\u001b[39m(\u001b[38;5;241m*\u001b[39margs, \u001b[38;5;241m*\u001b[39m\u001b[38;5;241m*\u001b[39mkwargs):\n\u001b[1;32m    593\u001b[0m     failSafeCheck()\n\u001b[0;32m--> 594\u001b[0m     returnVal \u001b[38;5;241m=\u001b[39m wrappedFunction(\u001b[38;5;241m*\u001b[39margs, \u001b[38;5;241m*\u001b[39m\u001b[38;5;241m*\u001b[39mkwargs)\n\u001b[1;32m    595\u001b[0m     _handlePause(kwargs\u001b[38;5;241m.\u001b[39mget(\u001b[38;5;124m\"\u001b[39m\u001b[38;5;124m_pause\u001b[39m\u001b[38;5;124m\"\u001b[39m, \u001b[38;5;28;01mTrue\u001b[39;00m))\n\u001b[1;32m    596\u001b[0m     \u001b[38;5;28;01mreturn\u001b[39;00m returnVal\n",
      "File \u001b[0;32m/opt/anaconda3/lib/python3.12/site-packages/pyautogui/__init__.py:1614\u001b[0m, in \u001b[0;36mpress\u001b[0;34m(keys, presses, interval, logScreenshot, _pause)\u001b[0m\n\u001b[1;32m   1612\u001b[0m \u001b[38;5;28;01mfor\u001b[39;00m k \u001b[38;5;129;01min\u001b[39;00m keys:\n\u001b[1;32m   1613\u001b[0m     failSafeCheck()\n\u001b[0;32m-> 1614\u001b[0m     platformModule\u001b[38;5;241m.\u001b[39m_keyDown(k)\n\u001b[1;32m   1615\u001b[0m     platformModule\u001b[38;5;241m.\u001b[39m_keyUp(k)\n\u001b[1;32m   1616\u001b[0m time\u001b[38;5;241m.\u001b[39msleep(interval)\n",
      "File \u001b[0;32m/opt/anaconda3/lib/python3.12/site-packages/pyautogui/_pyautogui_osx.py:226\u001b[0m, in \u001b[0;36m_keyDown\u001b[0;34m(key)\u001b[0m\n\u001b[1;32m    224\u001b[0m     _specialKeyEvent(key, \u001b[38;5;124m'\u001b[39m\u001b[38;5;124mdown\u001b[39m\u001b[38;5;124m'\u001b[39m)\n\u001b[1;32m    225\u001b[0m \u001b[38;5;28;01melse\u001b[39;00m:\n\u001b[0;32m--> 226\u001b[0m     _normalKeyEvent(key, \u001b[38;5;124m'\u001b[39m\u001b[38;5;124mdown\u001b[39m\u001b[38;5;124m'\u001b[39m)\n",
      "File \u001b[0;32m/opt/anaconda3/lib/python3.12/site-packages/pyautogui/_pyautogui_osx.py:256\u001b[0m, in \u001b[0;36m_normalKeyEvent\u001b[0;34m(key, upDown)\u001b[0m\n\u001b[1;32m    254\u001b[0m     event \u001b[38;5;241m=\u001b[39m Quartz\u001b[38;5;241m.\u001b[39mCGEventCreateKeyboardEvent(\u001b[38;5;28;01mNone\u001b[39;00m, key_code, upDown \u001b[38;5;241m==\u001b[39m \u001b[38;5;124m'\u001b[39m\u001b[38;5;124mdown\u001b[39m\u001b[38;5;124m'\u001b[39m)\n\u001b[1;32m    255\u001b[0m     Quartz\u001b[38;5;241m.\u001b[39mCGEventPost(Quartz\u001b[38;5;241m.\u001b[39mkCGHIDEventTap, event)\n\u001b[0;32m--> 256\u001b[0m     time\u001b[38;5;241m.\u001b[39msleep(pyautogui\u001b[38;5;241m.\u001b[39mDARWIN_CATCH_UP_TIME)\n\u001b[1;32m    258\u001b[0m \u001b[38;5;66;03m# TODO - wait, is the shift key's keyup not done?\u001b[39;00m\n\u001b[1;32m    259\u001b[0m \u001b[38;5;66;03m# TODO - get rid of this try-except.\u001b[39;00m\n\u001b[1;32m    261\u001b[0m \u001b[38;5;28;01mexcept\u001b[39;00m \u001b[38;5;167;01mKeyError\u001b[39;00m:\n",
      "\u001b[0;31mKeyboardInterrupt\u001b[0m: "
     ]
    }
   ],
   "source": [
    "messages = [\n",
    "    \"👨‍💻 La arquitectura hexagonal fomenta la independencia del código respecto a frameworks. #Hexagonal\",\n",
    "    \"🔧 Usa interfaces para definir contratos en TypeScript. #TypeScript #SOLID\",\n",
    "    \"🚀 Next.js permite SSR, SSG y CSR para mejorar el rendimiento y SEO. #NextJS\",\n",
    "    \"🧪 TDD: Escribe pruebas antes del código. Mejora la calidad y reduce errores. #TDD\",\n",
    "    \"🔍 Evita los code smells: mantén el código limpio y legible. #CodeSmells\",\n",
    "    \"📜 Ejemplo de uso de interfaces en TypeScript:\\n```typescript\\ninterface User {\\n  name: string;\\n  age: number;\\n}\\n```\",\n",
    "    \"💡 SRP: Cada clase debe tener una única responsabilidad. #SOLID\",\n",
    "    \"🔄 DRY: No repitas código, reutiliza funciones y componentes. #BestPractices\",\n",
    "    \"🧩 Usa componentes funcionales en React para simplificar tu código. #React\",\n",
    "    \"⚙️ Usa SSG en Next.js para generar páginas estáticas en build time. #NextJS\",\n",
    "    \"📊 Implementa logging con Pino y Grafana para monitorear tu aplicación. #Logging\",\n",
    "    \"🔒 La seguridad es clave: implementa JWT para autenticación. #Security\",\n",
    "    \"🔗 Usa useEffect en React para manejar efectos secundarios. #React\",\n",
    "    \"📏 SOLID: Principios para escribir código más limpio y robusto. #SOLID\",\n",
    "    \"🛠️ Mantén el estado global con Redux Toolkit. #React #Redux\",\n",
    "    \"🔄 Hexagonal Architecture: Facilita el cambio de frameworks y librerías. #Hexagonal\",\n",
    "    \"🚀 Usa CSR en Next.js para páginas dinámicas. #NextJS\",\n",
    "    \"🧹 Refactoriza tu código regularmente para evitar code smells. #CodeSmells\",\n",
    "    \"⚠️ Evita la repetición de código (DRY). #BestPractices\",\n",
    "    \"📦 Usa Tailwind CSS para un diseño eficiente y responsivo. #CSS\",\n",
    "    \"🔍 Implementa pruebas unitarias y de integración con Jest. #Testing\",\n",
    "    \"💡 OCP: Abierto a extensión, cerrado a modificación. #SOLID\",\n",
    "    \"🔄 Usa async/await para manejar promesas en JavaScript. #JavaScript\",\n",
    "    \"🛠️ Microservices: Divide tu aplicación en servicios independientes. #Microservices\",\n",
    "    \"⚙️ SSR en Next.js mejora el SEO y la velocidad de carga inicial. #NextJS\",\n",
    "    \"🔐 Encripta los datos sensibles en tus bases de datos. #Security\",\n",
    "    \"🔗 Usa el hook useState en React para manejar estados locales. #React\",\n",
    "    \"📏 LSP: Sustitución de Liskov, usa subtipos intercambiables. #SOLID\",\n",
    "    \"🚀 Code splitting en Next.js para mejorar el rendimiento. #NextJS\",\n",
    "    \"📜 Evita funciones demasiado largas, mantén el código modular. #BestPractices\",\n",
    "    \"🔒 Seguridad: Implementa OAuth para autenticación. #Security\",\n",
    "    \"🧪 TDD: Mejora la calidad del código con pruebas antes de desarrollarlo. #TDD\",\n",
    "    \"📊 Usa MongoDB para bases de datos NoSQL flexibles. #Databases\",\n",
    "    \"🔧 La arquitectura hexagonal facilita las pruebas unitarias. #Hexagonal\",\n",
    "    \"⚙️ Configura API Gateway para manejar microservicios. #API\",\n",
    "    \"📜 Ejemplo de uso de hooks en React:\\n```javascript\\nconst [state, setState] = useState(initialState);\\nuseEffect(() => {\\n  // Efecto\\n}, [dependencies]);\\n```\",\n",
    "    \"🛠️ SSR, SSG y CSR en Next.js: Escoge según las necesidades de tu proyecto. #NextJS\",\n",
    "    \"📦 Usa Docker para contenedores y despliegues consistentes. #DevOps\",\n",
    "    \"📊 Mantén logs detallados con Pino para facilitar el debugging. #Logging\",\n",
    "    \"💡 SRP: Evita clases con múltiples responsabilidades. #SOLID\",\n",
    "    \"🔄 Usa Redux para el manejo eficiente del estado global. #Redux\",\n",
    "    \"🧩 Evita los code smells como los métodos largos y complejos. #CodeSmells\",\n",
    "    \"📦 Usa npm scripts para automatizar tareas comunes. #JavaScript\",\n",
    "    \"🔍 Implementa pruebas end-to-end con Cypress. #Testing\",\n",
    "    \"📊 Usa Grafana para monitoreo y visualización de datos. #Logging\",\n",
    "    \"💡 DIP: La inversión de dependencia promueve el desacoplamiento. #SOLID\",\n",
    "    \"🔄 Usa CSR en Next.js para mejorar la experiencia de usuario. #NextJS\",\n",
    "    \"🧹 Refactoriza regularmente para mantener el código limpio. #BestPractices\",\n",
    "    \"⚙️ Implementa middleware en Node.js para manejar peticiones. #NodeJS\"\n",
    "]\n"
   ]
  },
  {
   "cell_type": "code",
   "execution_count": null,
   "id": "054ade7b-6211-4718-a4a3-7c8ad796fd65",
   "metadata": {},
   "outputs": [],
   "source": []
  },
  {
   "cell_type": "code",
   "execution_count": null,
   "id": "03c7f15c-4c5d-4f70-99c0-cdb530445931",
   "metadata": {},
   "outputs": [],
   "source": []
  },
  {
   "cell_type": "code",
   "execution_count": null,
   "id": "a2329d25-b25c-441c-8ea1-a84dbc0c87fc",
   "metadata": {},
   "outputs": [],
   "source": []
  },
  {
   "cell_type": "markdown",
   "id": "5bee41aa-d659-42d5-8e8c-8473d4eb7527",
   "metadata": {},
   "source": []
  },
  {
   "cell_type": "markdown",
   "id": "fe022bf3-961b-44ff-b618-2381ffe3c895",
   "metadata": {},
   "source": [
    "# "
   ]
  },
  {
   "cell_type": "code",
   "execution_count": null,
   "id": "dd3cb48f-855a-442c-a43b-cd03ba2a115a",
   "metadata": {},
   "outputs": [],
   "source": []
  }
 ],
 "metadata": {
  "kernelspec": {
   "display_name": "Python 3 (ipykernel)",
   "language": "python",
   "name": "python3"
  },
  "language_info": {
   "codemirror_mode": {
    "name": "ipython",
    "version": 3
   },
   "file_extension": ".py",
   "mimetype": "text/x-python",
   "name": "python",
   "nbconvert_exporter": "python",
   "pygments_lexer": "ipython3",
   "version": "3.12.4"
  }
 },
 "nbformat": 4,
 "nbformat_minor": 5
}
