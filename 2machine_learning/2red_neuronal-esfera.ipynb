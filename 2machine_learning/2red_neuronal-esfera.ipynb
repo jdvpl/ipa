{
 "cells": [
  {
   "cell_type": "code",
   "execution_count": 1,
   "id": "4c38d027-2473-4e9f-8b24-875ac01cfc74",
   "metadata": {},
   "outputs": [],
   "source": [
    "import tensorflow as tf\n",
    "import numpy as np\n",
    "\n",
    "import matplotlib.pyplot as plt"
   ]
  },
  {
   "cell_type": "code",
   "execution_count": 2,
   "id": "904a033b-6b75-44cf-9a40-7a58187a648a",
   "metadata": {},
   "outputs": [],
   "source": [
    "sphereRadius = np.array([0, 1, 2,3,5, 10, 11,20], dtype=float)\n"
   ]
  },
  {
   "cell_type": "code",
   "execution_count": 3,
   "id": "d4cae0b9-4833-4eb8-8607-d01dbf4ad87b",
   "metadata": {},
   "outputs": [],
   "source": [
    "sphereVolumeOutput = np.array([0, 1, 8,27,125, 1000,1331,8000], dtype=float)"
   ]
  },
  {
   "cell_type": "code",
   "execution_count": 4,
   "id": "66ffc4b3-5016-4cb0-aa5f-987fd674f635",
   "metadata": {},
   "outputs": [],
   "source": [
    "model = tf.keras.Sequential([\n",
    "    tf.keras.layers.Input(shape=[1]),\n",
    "    tf.keras.layers.Dense(units=3),    \n",
    "    tf.keras.layers.Dense(units=1)\n",
    "\n",
    "])"
   ]
  },
  {
   "cell_type": "code",
   "execution_count": 5,
   "id": "51e722d0-f705-41d3-856d-0ba1f03db1fe",
   "metadata": {},
   "outputs": [],
   "source": [
    "model.compile(\n",
    "    optimizer=tf.keras.optimizers.Adam(0.1),\n",
    "    loss='mean_squared_error'\n",
    ")"
   ]
  },
  {
   "cell_type": "code",
   "execution_count": 6,
   "id": "7775326d-38c6-4e53-9219-b0b57e0831d0",
   "metadata": {},
   "outputs": [
    {
     "name": "stdout",
     "output_type": "stream",
     "text": [
      "starting training...\n",
      "model trained...\n"
     ]
    }
   ],
   "source": [
    "print(\"starting training...\")\n",
    "history = model.fit(sphereRadius, sphereVolumeOutput, epochs=3000, verbose=False)\n",
    "print(\"model trained...\")"
   ]
  },
  {
   "cell_type": "code",
   "execution_count": 7,
   "id": "3e3e58ab-0e97-4340-9204-db29d216f249",
   "metadata": {},
   "outputs": [
    {
     "data": {
      "text/plain": [
       "[<matplotlib.lines.Line2D at 0x3021ac0e0>]"
      ]
     },
     "execution_count": 7,
     "metadata": {},
     "output_type": "execute_result"
    },
    {
     "data": {
      "image/png": "[encoded data removed]",
      "text/plain": [
       "<Figure size 640x480 with 1 Axes>"
      ]
     },
     "metadata": {},
     "output_type": "display_data"
    }
   ],
   "source": [
    "plt.xlabel(\"# epoch\")\n",
    "plt.ylabel(\"# lost magnitude\")\n",
    "plt.plot(history.history['loss'])"
   ]
  },
  {
   "cell_type": "code",
   "execution_count": 66,
   "id": "c51b11ac-6299-4990-b8dc-f633e91f81cc",
   "metadata": {},
   "outputs": [
    {
     "name": "stdout",
     "output_type": "stream",
     "text": [
      "Prediction for model\n",
      "\u001b[1m1/1\u001b[0m \u001b[32m━━━━━━━━━━━━━━━━━━━━\u001b[0m\u001b[37m\u001b[0m \u001b[1m0s\u001b[0m 15ms/step\n",
      "result is[[6587.608]]\n"
     ]
    }
   ],
   "source": [
    "print(\"Prediction for model\")\n",
    "result=model.predict(np.array([21]))\n",
    "print(\"result is\"+str(result))"
   ]
  },
  {
   "cell_type": "code",
   "execution_count": 67,
   "id": "9dff2430-7f58-48a3-b515-7bbce84ac411",
   "metadata": {},
   "outputs": [
    {
     "name": "stdout",
     "output_type": "stream",
     "text": [
      "Pesos: [[ 9.335846 -9.076261 -9.545362]]\n",
      "Sesgos: [-25.167542  27.547117  27.125856]\n",
      "Pesos: [[ 12.903207 ]\n",
      " [-13.445037 ]\n",
      " [-12.7157545]]\n",
      "Sesgos: [-13.611584]\n"
     ]
    }
   ],
   "source": [
    "dense_layer = model.layers\n",
    "for data in dense_layer:\n",
    "    weights, biases = data.get_weights()\n",
    "    print(f\"Pesos: {weights}\")\n",
    "    print(f\"Sesgos: {biases}\")\n"
   ]
  },
  {
   "cell_type": "code",
   "execution_count": null,
   "id": "2902b3ba-71b9-41d6-9d1b-b2b464036141",
   "metadata": {},
   "outputs": [],
   "source": []
  }
 ],
 "metadata": {
  "kernelspec": {
   "display_name": "Python 3 (ipykernel)",
   "language": "python",
   "name": "python3"
  },
  "language_info": {
   "codemirror_mode": {
    "name": "ipython",
    "version": 3
   },
   "file_extension": ".py",
   "mimetype": "text/x-python",
   "name": "python",
   "nbconvert_exporter": "python",
   "pygments_lexer": "ipython3",
   "version": "3.12.4"
  }
 },
 "nbformat": 4,
 "nbformat_minor": 5
}
