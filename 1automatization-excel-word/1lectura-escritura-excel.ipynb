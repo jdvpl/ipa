{
 "cells": [
  {
   "cell_type": "code",
   "execution_count": 21,
   "id": "74095266",
   "metadata": {},
   "outputs": [],
   "source": [
    "import openpyxl"
   ]
  },
  {
   "cell_type": "code",
   "execution_count": 36,
   "id": "cdd29180",
   "metadata": {},
   "outputs": [
    {
     "data": {
      "text/plain": [
       "'Lectura de ficheros excel'"
      ]
     },
     "execution_count": 36,
     "metadata": {},
     "output_type": "execute_result"
    }
   ],
   "source": [
    "\"Lectura de ficheros excel\""
   ]
  },
  {
   "cell_type": "code",
   "execution_count": 37,
   "id": "a687a7d3",
   "metadata": {},
   "outputs": [],
   "source": [
    "libro=openpyxl.load_workbook(\"./files/2iris_dataset.xlsx\")"
   ]
  },
  {
   "cell_type": "code",
   "execution_count": 38,
   "id": "d7d89693",
   "metadata": {},
   "outputs": [
    {
     "data": {
      "text/plain": [
       "['Iris_mod']"
      ]
     },
     "execution_count": 38,
     "metadata": {},
     "output_type": "execute_result"
    }
   ],
   "source": [
    "libro.sheetnames"
   ]
  },
  {
   "cell_type": "code",
   "execution_count": 39,
   "id": "f2fb0905",
   "metadata": {},
   "outputs": [],
   "source": [
    "sheet=libro[\"Iris_mod\"]"
   ]
  },
  {
   "cell_type": "code",
   "execution_count": 40,
   "id": "550f3926",
   "metadata": {},
   "outputs": [
    {
     "data": {
      "text/plain": [
       "'num'"
      ]
     },
     "execution_count": 40,
     "metadata": {},
     "output_type": "execute_result"
    }
   ],
   "source": [
    "sheet['A1'].value"
   ]
  },
  {
   "cell_type": "code",
   "execution_count": 42,
   "id": "e52b543f",
   "metadata": {},
   "outputs": [
    {
     "data": {
      "text/plain": [
       "3"
      ]
     },
     "execution_count": 42,
     "metadata": {},
     "output_type": "execute_result"
    }
   ],
   "source": [
    "sheet.cell(row=5,column=1).value"
   ]
  },
  {
   "cell_type": "code",
   "execution_count": 57,
   "id": "dc5989a9",
   "metadata": {},
   "outputs": [
    {
     "name": "stdout",
     "output_type": "stream",
     "text": [
      "longitud_sépalo       anchura_sépalo\n",
      "5.1      3.5\n",
      "4.9      3\n",
      "4.7      3.2\n",
      "4.6      3.1\n",
      "5      3.6\n"
     ]
    }
   ],
   "source": [
    "for i in range(1,7):\n",
    "    value = sheet.cell(row=i, column=2).value\n",
    "    value2 = sheet.cell(row=i, column=3).value\n",
    "    print(str(value) + \"      \"+str(value2))"
   ]
  },
  {
   "cell_type": "code",
   "execution_count": 58,
   "id": "b416e95b",
   "metadata": {},
   "outputs": [
    {
     "data": {
      "text/plain": [
       "'escritura de archivos'"
      ]
     },
     "execution_count": 58,
     "metadata": {},
     "output_type": "execute_result"
    }
   ],
   "source": [
    "\"escritura de archivos\""
   ]
  },
  {
   "cell_type": "code",
   "execution_count": 59,
   "id": "7066c900",
   "metadata": {},
   "outputs": [],
   "source": [
    "sheet[\"h1\"]=\"Resultado\""
   ]
  },
  {
   "cell_type": "code",
   "execution_count": 60,
   "id": "b17d310e",
   "metadata": {},
   "outputs": [],
   "source": [
    "sheet[\"h2\"]=sheet.cell(row=2,column=2).value*sheet.cell(row=2,column=3).value"
   ]
  },
  {
   "cell_type": "code",
   "execution_count": 61,
   "id": "940a48a8",
   "metadata": {},
   "outputs": [],
   "source": [
    "sheet2=libro.create_sheet(title=\"other sheet\")"
   ]
  },
  {
   "cell_type": "code",
   "execution_count": 62,
   "id": "cb9d7987",
   "metadata": {},
   "outputs": [],
   "source": [
    "libro.save(\"./files/2iris_dataset_modified.xlsx\")"
   ]
  },
  {
   "cell_type": "code",
   "execution_count": null,
   "id": "6919ddf8",
   "metadata": {},
   "outputs": [],
   "source": []
  }
 ],
 "metadata": {
  "kernelspec": {
   "display_name": "Python 3 (ipykernel)",
   "language": "python",
   "name": "python3"
  },
  "language_info": {
   "codemirror_mode": {
    "name": "ipython",
    "version": 3
   },
   "file_extension": ".py",
   "mimetype": "text/x-python",
   "name": "python",
   "nbconvert_exporter": "python",
   "pygments_lexer": "ipython3",
   "version": "3.12.4"
  }
 },
 "nbformat": 4,
 "nbformat_minor": 5
}
