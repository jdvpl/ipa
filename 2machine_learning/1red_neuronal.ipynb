{
 "cells": [
  {
   "cell_type": "code",
   "execution_count": 1,
   "id": "4c38d027-2473-4e9f-8b24-875ac01cfc74",
   "metadata": {},
   "outputs": [
    {
     "ename": "ModuleNotFoundError",
     "evalue": "No module named 'tensorflow'",
     "output_type": "error",
     "traceback": [
      "\u001b[0;31m---------------------------------------------------------------------------\u001b[0m",
      "\u001b[0;31mModuleNotFoundError\u001b[0m                       Traceback (most recent call last)",
      "Cell \u001b[0;32mIn[1], line 1\u001b[0m\n\u001b[0;32m----> 1\u001b[0m \u001b[38;5;28;01mimport\u001b[39;00m \u001b[38;5;21;01mtensorflow\u001b[39;00m \u001b[38;5;28;01mas\u001b[39;00m \u001b[38;5;21;01mtf\u001b[39;00m\n\u001b[1;32m      2\u001b[0m \u001b[38;5;28;01mimport\u001b[39;00m \u001b[38;5;21;01mnumpy\u001b[39;00m \u001b[38;5;28;01mas\u001b[39;00m \u001b[38;5;21;01mnp\u001b[39;00m\n\u001b[1;32m      4\u001b[0m \u001b[38;5;28;01mimport\u001b[39;00m \u001b[38;5;21;01mmatplotlib\u001b[39;00m\u001b[38;5;21;01m.\u001b[39;00m\u001b[38;5;21;01mpyplot\u001b[39;00m \u001b[38;5;28;01mas\u001b[39;00m \u001b[38;5;21;01mplt\u001b[39;00m\n",
      "\u001b[0;31mModuleNotFoundError\u001b[0m: No module named 'tensorflow'"
     ]
    }
   ],
   "source": [
    "import tensorflow as tf\n",
    "import numpy as np\n",
    "\n",
    "import matplotlib.pyplot as plt"
   ]
  },
  {
   "cell_type": "code",
   "execution_count": 2,
   "id": "904a033b-6b75-44cf-9a40-7a58187a648a",
   "metadata": {},
   "outputs": [],
   "source": [
    "celsiusEntries=np.array([-40,-10,0,8,15,22,38,100,88,76],dtype=float)"
   ]
  },
  {
   "cell_type": "code",
   "execution_count": 3,
   "id": "d4cae0b9-4833-4eb8-8607-d01dbf4ad87b",
   "metadata": {},
   "outputs": [],
   "source": [
    "fahrenheigtOutput=np.array([-40,14,32,46,59,72,100,212,190.4,168.8],dtype=float)"
   ]
  },
  {
   "cell_type": "code",
   "execution_count": 4,
   "id": "66ffc4b3-5016-4cb0-aa5f-987fd674f635",
   "metadata": {},
   "outputs": [],
   "source": [
    "model = tf.keras.Sequential([\n",
    "    tf.keras.layers.Input(shape=[1]),\n",
    "    tf.keras.layers.Dense(units=1)\n",
    "])"
   ]
  },
  {
   "cell_type": "code",
   "execution_count": 5,
   "id": "51e722d0-f705-41d3-856d-0ba1f03db1fe",
   "metadata": {},
   "outputs": [],
   "source": [
    "model.compile(\n",
    "    optimizer=tf.keras.optimizers.Adam(0.1),\n",
    "    loss='mean_squared_error'\n",
    ")"
   ]
  },
  {
   "cell_type": "code",
   "execution_count": 6,
   "id": "7775326d-38c6-4e53-9219-b0b57e0831d0",
   "metadata": {},
   "outputs": [
    {
     "name": "stdout",
     "output_type": "stream",
     "text": [
      "starting training...\n",
      "training finished...\n"
     ]
    }
   ],
   "source": [
    "print(\"starting training...\")\n",
    "history=model.fit(celsiusEntries,fahrenheigtOutput,epochs=1000, verbose=False)\n",
    "print(\"training finished...\")"
   ]
  },
  {
   "cell_type": "code",
   "execution_count": 7,
   "id": "3e3e58ab-0e97-4340-9204-db29d216f249",
   "metadata": {},
   "outputs": [
    {
     "data": {
      "text/plain": [
       "[<matplotlib.lines.Line2D at 0x17a0e0110>]"
      ]
     },
     "execution_count": 7,
     "metadata": {},
     "output_type": "execute_result"
    },
    {
     "data": {
      "image/png": "[encoded data removed]",
      "text/plain": [
       "<Figure size 640x480 with 1 Axes>"
      ]
     },
     "metadata": {},
     "output_type": "display_data"
    }
   ],
   "source": [
    "plt.xlabel(\"# time\")\n",
    "plt.ylabel(\"# lost magnitude\")\n",
    "plt.plot(history.history['loss'])"
   ]
  },
  {
   "cell_type": "code",
   "execution_count": 8,
   "id": "c51b11ac-6299-4990-b8dc-f633e91f81cc",
   "metadata": {},
   "outputs": [
    {
     "name": "stdout",
     "output_type": "stream",
     "text": [
      "Prediction for model\n",
      "\u001b[1m1/1\u001b[0m \u001b[32m━━━━━━━━━━━━━━━━━━━━\u001b[0m\u001b[37m\u001b[0m \u001b[1m0s\u001b[0m 28ms/step\n",
      "result is[[156.07605]]\n"
     ]
    }
   ],
   "source": [
    "print(\"Prediction for model\")\n",
    "result=model.predict(np.array([69]))\n",
    "print(\"result is\"+str(result))"
   ]
  },
  {
   "cell_type": "code",
   "execution_count": 95,
   "id": "9dff2430-7f58-48a3-b515-7bbce84ac411",
   "metadata": {},
   "outputs": [
    {
     "name": "stdout",
     "output_type": "stream",
     "text": [
      "Pesos: [[1.8014481]]\n",
      "Sesgos: [31.834843]\n"
     ]
    }
   ],
   "source": [
    "dense_layer = model.layers[0] \n",
    "weights, biases = dense_layer.get_weights()\n",
    "print(f\"Pesos: {weights}\")\n",
    "print(f\"Sesgos: {biases}\")\n"
   ]
  },
  {
   "cell_type": "code",
   "execution_count": null,
   "id": "2902b3ba-71b9-41d6-9d1b-b2b464036141",
   "metadata": {},
   "outputs": [],
   "source": []
  }
 ],
 "metadata": {
  "kernelspec": {
   "display_name": "Python 3 (ipykernel)",
   "language": "python",
   "name": "python3"
  },
  "language_info": {
   "codemirror_mode": {
    "name": "ipython",
    "version": 3
   },
   "file_extension": ".py",
   "mimetype": "text/x-python",
   "name": "python",
   "nbconvert_exporter": "python",
   "pygments_lexer": "ipython3",
   "version": "3.12.4"
  }
 },
 "nbformat": 4,
 "nbformat_minor": 5
}
