{
 "cells": [
  {
   "cell_type": "code",
   "execution_count": 7,
   "id": "74095266",
   "metadata": {},
   "outputs": [
    {
     "ename": "ModuleNotFoundError",
     "evalue": "No module named 'openpyxl'",
     "output_type": "error",
     "traceback": [
      "\u001b[0;31m---------------------------------------------------------------------------\u001b[0m",
      "\u001b[0;31mModuleNotFoundError\u001b[0m                       Traceback (most recent call last)",
      "Cell \u001b[0;32mIn[7], line 1\u001b[0m\n\u001b[0;32m----> 1\u001b[0m \u001b[38;5;28;01mimport\u001b[39;00m \u001b[38;5;21;01mopenpyxl\u001b[39;00m\n",
      "\u001b[0;31mModuleNotFoundError\u001b[0m: No module named 'openpyxl'"
     ]
    }
   ],
   "source": [
    "import openpyxl"
   ]
  },
  {
   "cell_type": "code",
   "execution_count": 25,
   "id": "cdd29180",
   "metadata": {},
   "outputs": [
    {
     "data": {
      "text/plain": [
       "'Lectura de ficheros'"
      ]
     },
     "execution_count": 25,
     "metadata": {},
     "output_type": "execute_result"
    }
   ],
   "source": [
    "\"Lectura de ficheros excel\""
   ]
  },
  {
   "cell_type": "code",
   "execution_count": 37,
   "id": "a687a7d3",
   "metadata": {},
   "outputs": [],
   "source": [
    "libro=openpyxl.load_workbook(\"/Users/jdvpl/Documents/ipa/1 lectura de ficheros excel/files/1Distrito_poblacion.xlsx\")"
   ]
  },
  {
   "cell_type": "code",
   "execution_count": 38,
   "id": "d7d89693",
   "metadata": {},
   "outputs": [
    {
     "data": {
      "text/plain": [
       "['Distrito_poblacion', 'other sheet', 'other sheet1']"
      ]
     },
     "execution_count": 38,
     "metadata": {},
     "output_type": "execute_result"
    }
   ],
   "source": [
    "libro.sheetnames"
   ]
  },
  {
   "cell_type": "code",
   "execution_count": 39,
   "id": "f2fb0905",
   "metadata": {},
   "outputs": [],
   "source": [
    "sheet=libro[\"Distrito_poblacion\"]"
   ]
  },
  {
   "cell_type": "code",
   "execution_count": 46,
   "id": "550f3926",
   "metadata": {},
   "outputs": [
    {
     "data": {
      "text/plain": [
       "'DISTRITO'"
      ]
     },
     "execution_count": 46,
     "metadata": {},
     "output_type": "execute_result"
    }
   ],
   "source": [
    "sheet['A1'].value"
   ]
  },
  {
   "cell_type": "code",
   "execution_count": 47,
   "id": "e52b543f",
   "metadata": {},
   "outputs": [
    {
     "data": {
      "text/plain": [
       "'Arganzuela'"
      ]
     },
     "execution_count": 47,
     "metadata": {},
     "output_type": "execute_result"
    }
   ],
   "source": [
    "sheet.cell(row=2,column=1).value"
   ]
  },
  {
   "cell_type": "code",
   "execution_count": 55,
   "id": "dc5989a9",
   "metadata": {},
   "outputs": [
    {
     "name": "stdout",
     "output_type": "stream",
     "text": [
      "DISTRITO:Población_Distrito\n",
      "Arganzuela:151965\n",
      "Centro:149718\n",
      "Chamberí:137401\n",
      "Moncloa-Aravaca:116903\n"
     ]
    }
   ],
   "source": [
    "for i in range(1,6):\n",
    "    print(sheet.cell(row=i,column=1).value+':'+str(sheet.cell(row=i,column=2).value))"
   ]
  },
  {
   "cell_type": "code",
   "execution_count": 43,
   "id": "b416e95b",
   "metadata": {},
   "outputs": [
    {
     "data": {
      "text/plain": [
       "'escritura de archivos'"
      ]
     },
     "execution_count": 43,
     "metadata": {},
     "output_type": "execute_result"
    }
   ],
   "source": [
    "\"escritura de archivos\""
   ]
  },
  {
   "cell_type": "code",
   "execution_count": 57,
   "id": "7066c900",
   "metadata": {},
   "outputs": [],
   "source": [
    "sheet[\"a2\"]=\"Huila\""
   ]
  },
  {
   "cell_type": "code",
   "execution_count": 58,
   "id": "940a48a8",
   "metadata": {},
   "outputs": [],
   "source": [
    "sheet2=libro.create_sheet(title=\"other sheet\")"
   ]
  },
  {
   "cell_type": "code",
   "execution_count": 59,
   "id": "cb9d7987",
   "metadata": {},
   "outputs": [],
   "source": [
    "libro.save(\"/Users/jdvpl/Documents/ipa/1 lectura de ficheros excel/files/1Distrito_poblacion.xlsx\")"
   ]
  },
  {
   "cell_type": "code",
   "execution_count": null,
   "id": "6919ddf8",
   "metadata": {},
   "outputs": [],
   "source": []
  }
 ],
 "metadata": {
  "kernelspec": {
   "display_name": "Python 3 (ipykernel)",
   "language": "python",
   "name": "python3"
  },
  "language_info": {
   "codemirror_mode": {
    "name": "ipython",
    "version": 3
   },
   "file_extension": ".py",
   "mimetype": "text/x-python",
   "name": "python",
   "nbconvert_exporter": "python",
   "pygments_lexer": "ipython3",
   "version": "3.12.1"
  }
 },
 "nbformat": 4,
 "nbformat_minor": 5
}
