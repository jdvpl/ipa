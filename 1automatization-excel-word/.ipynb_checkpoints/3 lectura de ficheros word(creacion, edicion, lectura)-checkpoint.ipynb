{
 "cells": [
  {
   "cell_type": "code",
   "execution_count": 4,
   "id": "8686e92c",
   "metadata": {},
   "outputs": [],
   "source": [
    "import docx"
   ]
  },
  {
   "cell_type": "code",
   "execution_count": 6,
   "id": "ea552ffc",
   "metadata": {},
   "outputs": [],
   "source": [
    " d=docx.Document(\"/Users/jdvpl/Documents/ipa/ipa/1automatization-excel-word/files/3Documento tecnologías emergentes.docx\")"
   ]
  },
  {
   "cell_type": "code",
   "execution_count": 8,
   "id": "7e131345",
   "metadata": {},
   "outputs": [
    {
     "data": {
      "text/plain": [
       "'“Que la tecnología ha cambiado nuestra manera de vivir e interactuar es un hecho. Sin embargo, aún no somos conscientes de las potencialidades de usos de las tecnologías.Por ejemplo, para el año 2025 se espera una verdadera revolución tecnológica, sobre todo enfocado en el\\xa0sector bio-médico\\xa0pero también en las relaciones humanas entre individuos a distancia, en la protección del medio ambiente o en la protección de nuestros datos personales”, afirma Juan Quintanilla, director general de Syntonize.'"
      ]
     },
     "execution_count": 8,
     "metadata": {},
     "output_type": "execute_result"
    }
   ],
   "source": [
    "d.paragraphs[2].text"
   ]
  },
  {
   "cell_type": "code",
   "execution_count": 9,
   "id": "3dbe346f",
   "metadata": {},
   "outputs": [],
   "source": [
    "p=d.paragraphs[2]"
   ]
  },
  {
   "cell_type": "markdown",
   "id": "68120f92",
   "metadata": {},
   "source": [
    "## Runs sirve para obtener texto con el formato homogeneo hasta que halla un cambio por ejemplo negritas o cursivas "
   ]
  },
  {
   "cell_type": "code",
   "execution_count": 10,
   "id": "d394f5b0",
   "metadata": {},
   "outputs": [
    {
     "data": {
      "text/plain": [
       "'“'"
      ]
     },
     "execution_count": 10,
     "metadata": {},
     "output_type": "execute_result"
    }
   ],
   "source": [
    "p.runs[0].text"
   ]
  },
  {
   "cell_type": "code",
   "execution_count": 11,
   "id": "c9f4a5c2",
   "metadata": {},
   "outputs": [
    {
     "data": {
      "text/plain": [
       "'Que la tecnología ha cambiado '"
      ]
     },
     "execution_count": 11,
     "metadata": {},
     "output_type": "execute_result"
    }
   ],
   "source": [
    "p.runs[1].text"
   ]
  },
  {
   "cell_type": "code",
   "execution_count": 12,
   "id": "194c1691",
   "metadata": {},
   "outputs": [
    {
     "data": {
      "text/plain": [
       "'nuestra manera de vivir e interactuar es un hecho'"
      ]
     },
     "execution_count": 12,
     "metadata": {},
     "output_type": "execute_result"
    }
   ],
   "source": [
    "p.runs[2].text"
   ]
  },
  {
   "cell_type": "code",
   "execution_count": 18,
   "id": "8ef6f026",
   "metadata": {},
   "outputs": [
    {
     "data": {
      "text/plain": [
       "'Leer el archivo completo'"
      ]
     },
     "execution_count": 18,
     "metadata": {},
     "output_type": "execute_result"
    }
   ],
   "source": [
    "\"\"\"Leer el archivo completo\"\"\""
   ]
  },
  {
   "cell_type": "code",
   "execution_count": 23,
   "id": "f6cbb482",
   "metadata": {},
   "outputs": [],
   "source": [
    "def get_text(file):\n",
    "    doc=docx.Document(file)\n",
    "    full_text=[]\n",
    "    for pr in doc.paragraphs:\n",
    "        full_text.append(pr.text)\n",
    "    return \"\\n\\n\".join(full_text\n",
    "                      )    "
   ]
  },
  {
   "cell_type": "code",
   "execution_count": 24,
   "id": "7738d313",
   "metadata": {},
   "outputs": [
    {
     "name": "stdout",
     "output_type": "stream",
     "text": [
      "Estas son las 9 tecnologías emergentes para el próximo 2025\n",
      "\n",
      " \n",
      "\n",
      "“Que la tecnología ha cambiado nuesta manera de vivir en el mundo es un hecho. Sin embargo, aún no somos conscientes de las potencialidades de usos de las tecnologías.Por ejemplo, para el año 2025 se espera una verdadera revolución tecnológica, sobre todo enfocado en el sector bio-médico pero también en las relaciones humanas entre individuos a distancia, en la protección del medio ambiente o en la protección de nuestros datos personales”, afirma Juan Quintanilla, director general de Syntonize.\n",
      "\n",
      "9 Tecnologías emergentes según Syntonize\n",
      "\n",
      "La aplicación de nuevas tecnologías que hagan más fácil la vida a profesionales, estudiantes, mayores, empresas o instituciones públicas se espera que aumente en los próximos años. Entre ellas se encuentran;\n",
      "\n",
      "Producción optimizada por la Inteligencia Artificial: las empresas están adoptando rápidamente tecnologías basadas en la nube. Gracias a ello, podrán agregar, transformar de manera inteligente y presentar contextualmente datos de productos y procesos de las líneas de fabricación. Para 2025, este flujo ubicuo de datos y los algoritmos inteligentes  permitirán que las líneas de fabricación se optimicen continuamente. Así se podrá reducir el desperdicio total en la fabricación hasta en un 50%. Como resultado, disfrutaremos de productos de mayor calidad, producidos más rápido y a menor coste para nuestros bolsillos y el medio ambiente.\n",
      "\n",
      "Energías renovables de largo alcance: en 2025, la huella de carbono se considerará socialmente inaceptable. La pandemia ha centrado la atención en la necesidad de tomar medidas para las amenazas a nuestra forma de vida, nuestra salud y nuestro futuro. Por ello, las personas, las empresas y los países buscarán las formas más rápidas y asequibles para lograr cero neto de emisiones. Además, surgirá una industria masiva de gestión del carbono para capturar, utilizar y eliminar el dióxido de carbono, desencadenando una ola de innovación comparable con las revoluciones industriales y digitales del pasado.\n",
      "\n",
      "Los ordenadores cuánticos: aterrizarán oficialmente en el mercado, a través de ellos podremos abordar problemas muchos más complejos, como reacciones químicas complejas, que facilitarán la investigación y la aplicación médica. Los cálculos cuánticos ayudaran al diseño de materiales con propiedades nunca antes pensadas.\n",
      "\n",
      "Prevención sanitaria a través de la comida: los sistemas de atención médica adoptarán en 2025 enfoques de salud más preventivos basados, principalmente, en la ciencia detrás de los beneficios para la salud de las dietas ricas en nutrientes vegetales. Esta tendencia estará habilitada por tecnologías basadas en IA mediante la biología de sistemas.\n",
      "\n",
      "La aplicación de nuevas tecnologías que hagan más fácil la vida a profesionales, estudiantes, mayores, empresas o instituciones públicas se espera que aumente en los próximos años\n",
      "\n",
      "El 5G mejorará la economía global y salvará vidas: el confinamiento ha provocado un crecimiento muy importante en el uso de la videoconferencia por parte de empresas y centros educativos, especialmente a través de redes de baja calidad. Las redes 5G de baja latencia resolverían esta falta de confiabilidad de red e incluso permitirían más servicios de alta capacidad, como telesalud, telecirugía o servicios de emergencia.\n",
      "\n",
      "Nueva normalidad frente al cáncer: la tecnología impulsa los datos, los datos catalizan el conocimiento y el conocimiento permite el empoderamiento. En el futuro más cercano, el cáncer se manejará como cualquier afección de salud crónica. Podremos identificar con precisión a lo que nos podemos enfrentar y estar capacitados para superarlo. De la misma manera, viviremos una revolución en el tratamiento impulsado por la tecnología.\n",
      "\n",
      "Ruptura de la barrera virtual-real: en los próximos años, podremos ver que este progreso se acelere, con tecnologías de inteligencia artificial creadas para conectar a las personas a nivel humano y acercarlas entre sí, incluso cuando están físicamente separadas. La línea entre el espacio físico y lo virtual se borrará para siempre.\n",
      "\n",
      "Remitir el cambio climático: una ampliación de las tecnologías de emisión negativa, como la eliminación de dióxido de carbono, eliminará del aire las cantidades de CO2 relevantes para el clima. Esto será necesario para limitar el calentamiento global a 1,5° C. Si bien la humanidad hará todo lo posible por dejar de emitir más carbono a la atmósfera, también hará todo lo posible para eliminar el CO2 histórico del aire de forma permanente.\n",
      "\n",
      "Comprender los secretos microscópicos ocultos en las superficies: la tecnología que acelera nuestra capacidad de muestrear, digitalizar e interpretar rápidamente los datos de los microbiomas transformará nuestra comprensión de cómo se propagan los patógenos.\n",
      "\n",
      "La privacidad estará generalizada y priorizada: la capacidad de los consumidores para proteger y controlar los activos de datos confidenciales se considerará como la regla y no como la excepción. Las tecnologías de mejora de la privacidad supondrán una categoría tecnológica propia y se convertirán en un elemento fundamental de las estrategias de privacidad y seguridad de la empresa.\n",
      "\n",
      "\n"
     ]
    }
   ],
   "source": [
    "print(get_text(\"/Users/jdvpl/Documents/ipa/ipa/1automatization-excel-word/files/3Documento tecnologías emergentes.docx\"))"
   ]
  },
  {
   "cell_type": "markdown",
   "id": "611e05af",
   "metadata": {},
   "source": [
    "## Edicion"
   ]
  },
  {
   "cell_type": "code",
   "execution_count": 14,
   "id": "d23453e0",
   "metadata": {},
   "outputs": [],
   "source": [
    "p.runs[1].bold=True"
   ]
  },
  {
   "cell_type": "code",
   "execution_count": 15,
   "id": "31f4d120",
   "metadata": {},
   "outputs": [],
   "source": [
    "p.runs[0].bold=True"
   ]
  },
  {
   "cell_type": "code",
   "execution_count": 16,
   "id": "3de6a189",
   "metadata": {},
   "outputs": [],
   "source": [
    "p.runs[2].text=\"nuesta manera de vivir en el mundo es un hecho\""
   ]
  },
  {
   "cell_type": "code",
   "execution_count": 17,
   "id": "a6605bba",
   "metadata": {},
   "outputs": [],
   "source": [
    "d.save(\"/Users/jdvpl/Documents/ipa/ipa/1automatization-excel-word/files/3Documento tecnologías emergentes.docx\")"
   ]
  },
  {
   "cell_type": "markdown",
   "id": "97686a2e",
   "metadata": {},
   "source": [
    "# Creacion de documento"
   ]
  },
  {
   "cell_type": "code",
   "execution_count": 27,
   "id": "91b999f0",
   "metadata": {},
   "outputs": [],
   "source": [
    "new_doc=docx.Document()"
   ]
  },
  {
   "cell_type": "code",
   "execution_count": 29,
   "id": "12e119b9",
   "metadata": {},
   "outputs": [
    {
     "data": {
      "text/plain": [
       "<docx.text.paragraph.Paragraph at 0x7fc978102b50>"
      ]
     },
     "execution_count": 29,
     "metadata": {},
     "output_type": "execute_result"
    }
   ],
   "source": [
    "new_doc.add_paragraph(\"Escribiendo desde Python Code con JDVPL\")"
   ]
  },
  {
   "cell_type": "code",
   "execution_count": 30,
   "id": "f60c071c",
   "metadata": {},
   "outputs": [
    {
     "data": {
      "text/plain": [
       "<docx.text.paragraph.Paragraph at 0x7fc9781026a0>"
      ]
     },
     "execution_count": 30,
     "metadata": {},
     "output_type": "execute_result"
    }
   ],
   "source": [
    "new_doc.add_paragraph(\"Habia una vez un hombre que se esmera por todo\")"
   ]
  },
  {
   "cell_type": "code",
   "execution_count": 31,
   "id": "77c826f3",
   "metadata": {},
   "outputs": [],
   "source": [
    "new_doc.save(\"/Users/jdvpl/Documents/ipa/ipa/1automatization-excel-word/files/3jdvpl_text.docx\")"
   ]
  },
  {
   "cell_type": "code",
   "execution_count": 47,
   "id": "9ec71227",
   "metadata": {},
   "outputs": [],
   "source": [
    "p=new_doc.paragraphs[0]\n",
    "p.add_run(' Y saitama que haga ejercicio')\n",
    "p.runs[1].underline=True"
   ]
  },
  {
   "cell_type": "code",
   "execution_count": 48,
   "id": "acbef324",
   "metadata": {},
   "outputs": [],
   "source": [
    "p.runs[1].bold=True"
   ]
  },
  {
   "cell_type": "code",
   "execution_count": 49,
   "id": "7a62578f",
   "metadata": {},
   "outputs": [],
   "source": [
    "p.runs[1].fontSize=32"
   ]
  },
  {
   "cell_type": "code",
   "execution_count": 50,
   "id": "bbf10bb0",
   "metadata": {},
   "outputs": [],
   "source": [
    "new_doc.save(\"/Users/jdvpl/Documents/ipa/ipa/1automatization-excel-word/files/3jdvpl_text.docx\")"
   ]
  },
  {
   "cell_type": "code",
   "execution_count": null,
   "id": "ce165bd0",
   "metadata": {},
   "outputs": [],
   "source": []
  }
 ],
 "metadata": {
  "kernelspec": {
   "display_name": "Python 3 (ipykernel)",
   "language": "python",
   "name": "python3"
  },
  "language_info": {
   "codemirror_mode": {
    "name": "ipython",
    "version": 3
   },
   "file_extension": ".py",
   "mimetype": "text/x-python",
   "name": "python",
   "nbconvert_exporter": "python",
   "pygments_lexer": "ipython3",
   "version": "3.9.7"
  }
 },
 "nbformat": 4,
 "nbformat_minor": 5
}
