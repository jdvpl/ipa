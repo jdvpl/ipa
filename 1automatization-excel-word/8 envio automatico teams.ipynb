{
 "cells": [
  {
   "cell_type": "markdown",
   "id": "5f13758d-9cb8-4764-8f16-de04dd43b913",
   "metadata": {},
   "source": [
    "# JE AUTOMATIZADO"
   ]
  },
  {
   "cell_type": "code",
   "execution_count": 19,
   "id": "3837018f-3a66-4900-b64e-49332d32ba99",
   "metadata": {},
   "outputs": [],
   "source": [
    "import pyautogui\n",
    "import webbrowser\n",
    "from time import sleep\n"
   ]
  },
  {
   "cell_type": "code",
   "execution_count": 20,
   "id": "d3f5a192-3850-41c0-a322-a1e5d75cca00",
   "metadata": {},
   "outputs": [],
   "source": [
    "import pyautogui\n",
    "import webbrowser\n",
    "from time import sleep\n",
    "\n",
    "def open_teams():\n",
    "    webbrowser.open('msteams:')\n",
    "    sleep(15)\n",
    "\n",
    "def search_and_message(person_name, messages, repeat_count):\n",
    "    search_box = (600, 50)\n",
    "    first_result_box = (600, 200)\n",
    "    message_box = (600, 00)\n",
    "    search_delay = 1\n",
    "    message_delay = 2\n",
    "    \n",
    "    pyautogui.click(search_box)\n",
    "    sleep(search_delay)\n",
    "    \n",
    "    pyautogui.typewrite(person_name)\n",
    "    sleep(search_delay)\n",
    "    \n",
    "    pyautogui.press('enter')\n",
    "    sleep(search_delay)\n",
    "    \n",
    "    pyautogui.click(first_result_box)\n",
    "    sleep(search_delay)\n",
    "    \n",
    "    for i in range(repeat_count):\n",
    "        pyautogui.click(message_box)\n",
    "        sleep(message_delay)\n",
    "        \n",
    "        message = messages[i % len(messages)]\n",
    "        pyautogui.typewrite(message)\n",
    "        sleep(message_delay)\n",
    "        \n",
    "        pyautogui.press('enter')\n",
    "\n",
    "\n"
   ]
  },
  {
   "cell_type": "code",
   "execution_count": 21,
   "id": "0f7e56f4-0f73-4b33-b6e3-78c4c68ab739",
   "metadata": {},
   "outputs": [],
   "source": [
    "messages = [\n",
    "    \"👨‍💻 La arquitectura hexagonal fomenta la independencia del código respecto a frameworks. #Hexagonal\",\n",
    "    \"🔧 Usa interfaces para definir contratos en TypeScript. #TypeScript #SOLID\",\n",
    "    \"🚀 Next.js permite SSR, SSG y CSR para mejorar el rendimiento y SEO. #NextJS\",\n",
    "    \"🧪 TDD: Escribe pruebas antes del código. Mejora la calidad y reduce errores. #TDD\",\n",
    "    \"🔍 Evita los code smells: mantén el código limpio y legible. #CodeSmells\",\n",
    "    \"📜 Ejemplo de uso de interfaces en TypeScript:\\n```typescript\\ninterface User {\\n  name: string;\\n  age: number;\\n}\\n```\",\n",
    "    \"💡 SRP: Cada clase debe tener una única responsabilidad. #SOLID\",\n",
    "    \"🔄 DRY: No repitas código, reutiliza funciones y componentes. #BestPractices\",\n",
    "    \"🧩 Usa componentes funcionales en React para simplificar tu código. #React\",\n",
    "    \"⚙️ Usa SSG en Next.js para generar páginas estáticas en build time. #NextJS\",\n",
    "    \"📊 Implementa logging con Pino y Grafana para monitorear tu aplicación. #Logging\",\n",
    "    \"🔒 La seguridad es clave: implementa JWT para autenticación. #Security\",\n",
    "    \"🔗 Usa useEffect en React para manejar efectos secundarios. #React\",\n",
    "    \"📏 SOLID: Principios para escribir código más limpio y robusto. #SOLID\",\n",
    "    \"🛠️ Mantén el estado global con Redux Toolkit. #React #Redux\",\n",
    "    \"🔄 Hexagonal Architecture: Facilita el cambio de frameworks y librerías. #Hexagonal\",\n",
    "    \"🚀 Usa CSR en Next.js para páginas dinámicas. #NextJS\",\n",
    "    \"🧹 Refactoriza tu código regularmente para evitar code smells. #CodeSmells\",\n",
    "    \"⚠️ Evita la repetición de código (DRY). #BestPractices\",\n",
    "    \"📦 Usa Tailwind CSS para un diseño eficiente y responsivo. #CSS\",\n",
    "    \"🔍 Implementa pruebas unitarias y de integración con Jest. #Testing\",\n",
    "    \"💡 OCP: Abierto a extensión, cerrado a modificación. #SOLID\",\n",
    "    \"🔄 Usa async/await para manejar promesas en JavaScript. #JavaScript\",\n",
    "    \"🛠️ Microservices: Divide tu aplicación en servicios independientes. #Microservices\",\n",
    "    \"⚙️ SSR en Next.js mejora el SEO y la velocidad de carga inicial. #NextJS\",\n",
    "    \"🔐 Encripta los datos sensibles en tus bases de datos. #Security\",\n",
    "    \"🔗 Usa el hook useState en React para manejar estados locales. #React\",\n",
    "    \"📏 LSP: Sustitución de Liskov, usa subtipos intercambiables. #SOLID\",\n",
    "    \"🚀 Code splitting en Next.js para mejorar el rendimiento. #NextJS\",\n",
    "    \"📜 Evita funciones demasiado largas, mantén el código modular. #BestPractices\",\n",
    "    \"🔒 Seguridad: Implementa OAuth para autenticación. #Security\",\n",
    "    \"🧪 TDD: Mejora la calidad del código con pruebas antes de desarrollarlo. #TDD\",\n",
    "    \"📊 Usa MongoDB para bases de datos NoSQL flexibles. #Databases\",\n",
    "    \"🔧 La arquitectura hexagonal facilita las pruebas unitarias. #Hexagonal\",\n",
    "    \"⚙️ Configura API Gateway para manejar microservicios. #API\",\n",
    "    \"📜 Ejemplo de uso de hooks en React:\\n```javascript\\nconst [state, setState] = useState(initialState);\\nuseEffect(() => {\\n  // Efecto\\n}, [dependencies]);\\n```\",\n",
    "    \"🛠️ SSR, SSG y CSR en Next.js: Escoge según las necesidades de tu proyecto. #NextJS\",\n",
    "    \"📦 Usa Docker para contenedores y despliegues consistentes. #DevOps\",\n",
    "    \"📊 Mantén logs detallados con Pino para facilitar el debugging. #Logging\",\n",
    "    \"💡 SRP: Evita clases con múltiples responsabilidades. #SOLID\",\n",
    "    \"🔄 Usa Redux para el manejo eficiente del estado global. #Redux\",\n",
    "    \"🧩 Evita los code smells como los métodos largos y complejos. #CodeSmells\",\n",
    "    \"📦 Usa npm scripts para automatizar tareas comunes. #JavaScript\",\n",
    "    \"🔍 Implementa pruebas end-to-end con Cypress. #Testing\",\n",
    "    \"📊 Usa Grafana para monitoreo y visualización de datos. #Logging\",\n",
    "    \"💡 DIP: La inversión de dependencia promueve el desacoplamiento. #SOLID\",\n",
    "    \"🔄 Usa CSR en Next.js para mejorar la experiencia de usuario. #NextJS\",\n",
    "    \"🧹 Refactoriza regularmente para mantener el código limpio. #BestPractices\",\n",
    "    \"⚙️ Implementa middleware en Node.js para manejar peticiones. #NodeJS\"\n",
    "]\n"
   ]
  },
  {
   "cell_type": "code",
   "execution_count": 24,
   "id": "dd3cb48f-855a-442c-a43b-cd03ba2a115a",
   "metadata": {},
   "outputs": [],
   "source": [
    "open_teams()\n",
    "search_and_message('Jair Andres Prada', messages, 2)"
   ]
  },
  {
   "cell_type": "code",
   "execution_count": null,
   "id": "78b00b66-1bd2-4982-9b00-3035f33471de",
   "metadata": {},
   "outputs": [],
   "source": []
  }
 ],
 "metadata": {
  "kernelspec": {
   "display_name": "Python 3 (ipykernel)",
   "language": "python",
   "name": "python3"
  },
  "language_info": {
   "codemirror_mode": {
    "name": "ipython",
    "version": 3
   },
   "file_extension": ".py",
   "mimetype": "text/x-python",
   "name": "python",
   "nbconvert_exporter": "python",
   "pygments_lexer": "ipython3",
   "version": "3.12.4"
  }
 },
 "nbformat": 4,
 "nbformat_minor": 5
}
